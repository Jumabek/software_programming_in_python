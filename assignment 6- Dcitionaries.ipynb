{
 "cells": [
  {
   "cell_type": "code",
   "execution_count": null,
   "metadata": {},
   "outputs": [],
   "source": []
  },
  {
   "cell_type": "markdown",
   "metadata": {},
   "source": [
    "## Q0: create a dictionary variable. Variable should contain nested dictionary and lists. Print the dictionary\n",
    "- info \n",
    "- subjects\n",
    "\n",
    "`info` key should have a dictionary as its value. Value itself should following key-value pairs.\n",
    "    - name\n",
    "    - age\n",
    "    - adress\n",
    "    - nationality\n",
    "    - department\n",
    "\n",
    "`subject` key should contain list of at least 6 subjects\n"
   ]
  },
  {
   "cell_type": "code",
   "execution_count": 2,
   "metadata": {},
   "outputs": [
    {
     "name": "stdout",
     "output_type": "stream",
     "text": [
      "{'info': {'name': 'John', 'age': 25, 'address': 'New York'}, 'subjects': ['Math', 'English', 'Science']}\n"
     ]
    }
   ],
   "source": [
    "# HINT\n",
    "#you can use the following code as a starting point\n",
    "\n",
    "my_dict = {\n",
    "    'info': {'name': 'John', }\n",
    "    ,'subjects': \n",
    "} \n",
    "\n",
    "print(my_dict)"
   ]
  },
  {
   "cell_type": "markdown",
   "metadata": {},
   "source": [
    "## Q1: In this question you create a dictionary with subject:grade pair.  \n",
    "1. Get the list of subject names from `my_dict['subjects']` and print\n",
    "2. make a new dictionary with subject as its key and grade as its value\n",
    "   1. generate the grade randomly using random module. Grades should be between 0-100\n",
    "3. print the results"
   ]
  },
  {
   "cell_type": "markdown",
   "metadata": {},
   "source": [
    "## Q2: Sort the dictionary you created in Q1 and print. Sorting should be done dictionary values (grades)."
   ]
  },
  {
   "cell_type": "markdown",
   "metadata": {},
   "source": []
  }
 ],
 "metadata": {
  "kernelspec": {
   "display_name": "Python 3.9.12 ('base')",
   "language": "python",
   "name": "python3"
  },
  "language_info": {
   "codemirror_mode": {
    "name": "ipython",
    "version": 3
   },
   "file_extension": ".py",
   "mimetype": "text/x-python",
   "name": "python",
   "nbconvert_exporter": "python",
   "pygments_lexer": "ipython3",
   "version": "3.9.12"
  },
  "orig_nbformat": 4,
  "vscode": {
   "interpreter": {
    "hash": "b615e60663b5d9fae36dc08454e8a95cccc914218dd895e1bb50f18b74e34ecc"
   }
  }
 },
 "nbformat": 4,
 "nbformat_minor": 2
}
