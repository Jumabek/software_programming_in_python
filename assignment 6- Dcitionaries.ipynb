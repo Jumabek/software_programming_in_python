{
 "cells": [
  {
   "cell_type": "code",
   "execution_count": null,
   "metadata": {},
   "outputs": [],
   "source": []
  },
  {
   "cell_type": "markdown",
   "metadata": {},
   "source": [
    "## Q0: create a dictionary variable. Variable should contain nested dictionary and lists. Print the dictionary\n",
    "- info \n",
    "- subjects\n",
    "\n",
    "`info` key should have a dictionary as its value. Value itself should have following key-value pairs.\n",
    "  - name\n",
    "  - student id\n",
    "  - age\n",
    "  - adress\n",
    "  - nationality\n",
    "  - department\n",
    "\n",
    "`subject` key should contain list of at least 6 subjects\n"
   ]
  },
  {
   "cell_type": "code",
   "execution_count": null,
   "metadata": {},
   "outputs": [],
   "source": [
    "# HINT\n",
    "#you can use the following code as a starting point\n",
    "\n",
    "my_dict = {\n",
    "    'info': {'name': 'John', }\n",
    "    ,'subjects': \n",
    "} \n",
    "\n",
    "print(my_dict)"
   ]
  },
  {
   "cell_type": "markdown",
   "metadata": {},
   "source": [
    "## Q1: In this question you create a dictionary with subject:grade pairs\n",
    "1. Get the list of subject names from my_dict variable you create in Q0 as `my_dict['subjects']` and print\n",
    "2. make a new dictionary with subject as its key and grade as its value\n",
    "   1. grade should be randomly generated between 0-100 range\n",
    "3. print the results"
   ]
  },
  {
   "cell_type": "markdown",
   "metadata": {},
   "source": [
    "## Q2: Sort the dictionary you created in Q1 and print. Sorting should be done by dictionary values (grades)."
   ]
  },
  {
   "cell_type": "markdown",
   "metadata": {},
   "source": []
  }
 ],
 "metadata": {
  "kernelspec": {
   "display_name": "Python 3.8.10 64-bit",
   "language": "python",
   "name": "python3"
  },
  "language_info": {
   "codemirror_mode": {
    "name": "ipython",
    "version": 3
   },
   "file_extension": ".py",
   "mimetype": "text/x-python",
   "name": "python",
   "nbconvert_exporter": "python",
   "pygments_lexer": "ipython3",
   "version": "3.8.10"
  },
  "orig_nbformat": 4,
  "vscode": {
   "interpreter": {
    "hash": "916dbcbb3f70747c44a77c7bcd40155683ae19c65e1c03b4aa3499c5328201f1"
   }
  }
 },
 "nbformat": 4,
 "nbformat_minor": 2
}
