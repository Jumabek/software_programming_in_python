version https://git-lfs.github.com/spec/v1
oid sha256:44120b61193ebfc3f8a48f92f53c3e59ef0418f494fc8fac72027c7b848ce24d
size 19747
