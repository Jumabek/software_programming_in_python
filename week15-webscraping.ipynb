{
 "cells": [
  {
   "cell_type": "markdown",
   "metadata": {},
   "source": [
    "# Web scraping"
   ]
  },
  {
   "cell_type": "code",
   "execution_count": null,
   "metadata": {},
   "outputs": [],
   "source": []
  },
  {
   "cell_type": "markdown",
   "metadata": {},
   "source": [
    "## got to website and download 10 files\n",
    "- https://www.worksheetfun.com/2013/03/16/number-coloring-pages-10-worksheets/\n"
   ]
  },
  {
   "cell_type": "code",
   "execution_count": null,
   "metadata": {},
   "outputs": [],
   "source": []
  },
  {
   "cell_type": "code",
   "execution_count": 4,
   "metadata": {},
   "outputs": [
    {
     "name": "stdout",
     "output_type": "stream",
     "text": [
      "http://www.worksheetfun.com/counting/number%201%20coloring.pdf\n",
      "http://www.worksheetfun.com/counting/number%202%20coloring.pdf\n",
      "http://www.worksheetfun.com/counting/number%203%20coloring.pdf\n",
      "http://www.worksheetfun.com/counting/number%204%20coloring.pdf\n",
      "http://www.worksheetfun.com/counting/number%205%20coloring.pdf\n",
      "http://www.worksheetfun.com/counting/number%206%20coloring.pdf\n",
      "http://www.worksheetfun.com/counting/number%207%20coloring.pdf\n",
      "http://www.worksheetfun.com/counting/number%208%20coloring.pdf\n",
      "http://www.worksheetfun.com/counting/number%209%20coloring.pdf\n",
      "http://www.worksheetfun.com/counting/number%2010%20coloring.pdf\n"
     ]
    }
   ],
   "source": [
    "# http://www.worksheetfun.com/counting/number%201%20coloring.pdf\n",
    "# http://www.worksheetfun.com/counting/number%202%20coloring.pdf\n",
    "import requests\n",
    "\n",
    "for i in range(1,11):\n",
    "    url = f'http://www.worksheetfun.com/counting/number%20{i}%20coloring.pdf'\n",
    "    print(url)\n",
    "    r = requests.get(url)\n",
    "    with open(f'downloads/number{i}.pdf', 'wb') as f:\n",
    "        f.write(r.content)"
   ]
  },
  {
   "cell_type": "code",
   "execution_count": 6,
   "metadata": {},
   "outputs": [],
   "source": [
    "headers = {'User-Agent':'Mozilla/5.0 (X11; Linux x86_64) AppleWebKit/537.36 (KHTML, like Gecko) Chrome/107.0.0.0 Safari/537.36'}\n"
   ]
  },
  {
   "cell_type": "code",
   "execution_count": 7,
   "metadata": {},
   "outputs": [
    {
     "name": "stdout",
     "output_type": "stream",
     "text": [
      "http://www.worksheetfun.com/counting/number%201%20coloring.pdf\n",
      "http://www.worksheetfun.com/counting/number%202%20coloring.pdf\n",
      "http://www.worksheetfun.com/counting/number%203%20coloring.pdf\n",
      "http://www.worksheetfun.com/counting/number%204%20coloring.pdf\n",
      "http://www.worksheetfun.com/counting/number%205%20coloring.pdf\n",
      "http://www.worksheetfun.com/counting/number%206%20coloring.pdf\n",
      "http://www.worksheetfun.com/counting/number%207%20coloring.pdf\n",
      "http://www.worksheetfun.com/counting/number%208%20coloring.pdf\n",
      "http://www.worksheetfun.com/counting/number%209%20coloring.pdf\n",
      "http://www.worksheetfun.com/counting/number%2010%20coloring.pdf\n"
     ]
    }
   ],
   "source": [
    "# http://www.worksheetfun.com/counting/number%201%20coloring.pdf\n",
    "# http://www.worksheetfun.com/counting/number%202%20coloring.pdf\n",
    "import requests\n",
    "\n",
    "for i in range(1,11):\n",
    "    url = f'http://www.worksheetfun.com/counting/number%20{i}%20coloring.pdf'\n",
    "    print(url)\n",
    "    r = requests.get(url,headers=headers)\n",
    "    with open(f'downloads/number{i}.pdf', 'wb') as f:\n",
    "        f.write(r.content)"
   ]
  },
  {
   "cell_type": "markdown",
   "metadata": {},
   "source": [
    "## search youtube for exact second of the clip\n",
    "https://www.youtube.com/watch?v=odM92ap8_c0\n",
    "\n",
    "https://colab.research.google.com/github/tg-bomze/collection-of-notebooks/blob/master/Natural_Language_YouTube_Searcher.ipynb"
   ]
  },
  {
   "cell_type": "markdown",
   "metadata": {},
   "source": []
  },
  {
   "cell_type": "code",
   "execution_count": null,
   "metadata": {},
   "outputs": [],
   "source": []
  }
 ],
 "metadata": {
  "kernelspec": {
   "display_name": "Python 3.10.6 64-bit",
   "language": "python",
   "name": "python3"
  },
  "language_info": {
   "codemirror_mode": {
    "name": "ipython",
    "version": 3
   },
   "file_extension": ".py",
   "mimetype": "text/x-python",
   "name": "python",
   "nbconvert_exporter": "python",
   "pygments_lexer": "ipython3",
   "version": "3.10.6"
  },
  "orig_nbformat": 4,
  "vscode": {
   "interpreter": {
    "hash": "916dbcbb3f70747c44a77c7bcd40155683ae19c65e1c03b4aa3499c5328201f1"
   }
  }
 },
 "nbformat": 4,
 "nbformat_minor": 2
}
