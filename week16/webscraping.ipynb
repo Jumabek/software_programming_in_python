{
 "cells": [
  {
   "cell_type": "markdown",
   "metadata": {},
   "source": [
    "# Web scraping"
   ]
  },
  {
   "cell_type": "markdown",
   "metadata": {},
   "source": [
    "## got to website and download 10 files\n",
    "- https://www.worksheetfun.com/2013/03/16/number-coloring-pages-10-worksheets/\n"
   ]
  },
  {
   "cell_type": "code",
   "execution_count": null,
   "metadata": {},
   "outputs": [],
   "source": [
    "for i in range(1,11):\n",
    "    url = f'http://www.worksheetfun.com/counting/number%20{i}%20coloring.pdf'\n",
    "    print(url)"
   ]
  },
  {
   "cell_type": "code",
   "execution_count": null,
   "metadata": {},
   "outputs": [],
   "source": [
    "# http://www.worksheetfun.com/counting/number%201%20coloring.pdf\n",
    "# http://www.worksheetfun.com/counting/number%202%20coloring.pdf\n",
    "import requests # it web scraping library \n",
    "\n",
    "for i in range(1,11):\n",
    "    url = f'http://www.worksheetfun.com/counting/number%20{i}%20coloring.pdf'\n",
    "    print(url)\n",
    "    r = requests.get(url)\n",
    "    print(r)"
   ]
  },
  {
   "cell_type": "code",
   "execution_count": null,
   "metadata": {},
   "outputs": [],
   "source": [
    "# http://www.worksheetfun.com/counting/number%201%20coloring.pdf\n",
    "# http://www.worksheetfun.com/counting/number%202%20coloring.pdf\n",
    "import requests # it web scraping library \n",
    "headers = {'User-Agent':'Mozilla/5.0 (X11; Linux x86_64)\\\n",
    " AppleWebKit/537.36 (KHTML, like Gecko) Chrome/107.0.0.0 Safari/537.36'}\n",
    "\n",
    "for i in range(1,11):\n",
    "    url = f'http://www.worksheetfun.com/counting/number%20{i}%20coloring.pdf'\n",
    "    print(url)\n",
    "    r = requests.get(url,headers=headers)\n",
    "    print(r)"
   ]
  },
  {
   "cell_type": "code",
   "execution_count": null,
   "metadata": {},
   "outputs": [],
   "source": [
    "# http://www.worksheetfun.com/counting/number%201%20coloring.pdf\n",
    "# http://www.worksheetfun.com/counting/number%202%20coloring.pdf\n",
    "import requests # it web scraping library \n",
    "\n",
    "for i in range(1,11):\n",
    "    url = f'http://www.worksheetfun.com/counting/number%20{i}%20coloring.pdf'\n",
    "    print(url)\n",
    "    r = requests.get(url)\n",
    "    with open(f'downloads/number{i}.pdf', 'wb') as f: # just opening file\n",
    "        f.write(r.content)"
   ]
  },
  {
   "cell_type": "code",
   "execution_count": null,
   "metadata": {},
   "outputs": [],
   "source": [
    "headers = {'User-Agent':'Mozilla/5.0 (X11; Linux x86_64) AppleWebKit/537.36 (KHTML, like Gecko) Chrome/107.0.0.0 Safari/537.36'}\n"
   ]
  },
  {
   "cell_type": "code",
   "execution_count": null,
   "metadata": {},
   "outputs": [],
   "source": [
    "# http://www.worksheetfun.com/counting/number%201%20coloring.pdf\n",
    "# http://www.worksheetfun.com/counting/number%202%20coloring.pdf\n",
    "import requests\n",
    "\n",
    "for i in range(1,11):\n",
    "    url = f'http://www.worksheetfun.com/counting/number%20{i}%20coloring.pdf'\n",
    "    print(url)\n",
    "    r = requests.get(url,headers=headers)\n",
    "    with open(f'downloads/number{i}.pdf', 'wb') as f: # 'wb' write binary\n",
    "        f.write(r.content)"
   ]
  },
  {
   "attachments": {},
   "cell_type": "markdown",
   "metadata": {},
   "source": [
    "# Diving deeper \n",
    "- Web scraping - using a program to download and process content from the web.![](../images/2022-12-02-10-08-10.png)"
   ]
  },
  {
   "cell_type": "code",
   "execution_count": null,
   "metadata": {},
   "outputs": [],
   "source": []
  },
  {
   "cell_type": "markdown",
   "metadata": {},
   "source": [
    "## python modules for web scraping\n",
    "- `webbrowser` Comes with Python and opens a browser to a specific page.\n",
    "- `requests` Downloads files and web pages from the internet.\n",
    "\n",
    "- `bs4` Parses HTML, the format that web pages are written in.\n",
    "\n",
    "- `selenium` Launches and controls a web browser. The selenium module is able to fill in forms and simulate mouse clicks in this browser."
   ]
  },
  {
   "attachments": {},
   "cell_type": "markdown",
   "metadata": {},
   "source": [
    "## Webbrowser \n",
    "- open a browser\n",
    "- example with map it\n",
    "    - `python mapIt.py inha university incheon`"
   ]
  },
  {
   "cell_type": "code",
   "execution_count": null,
   "metadata": {},
   "outputs": [],
   "source": []
  },
  {
   "cell_type": "code",
   "execution_count": 72,
   "metadata": {},
   "outputs": [
    {
     "data": {
      "text/plain": [
       "True"
      ]
     },
     "execution_count": 72,
     "metadata": {},
     "output_type": "execute_result"
    }
   ],
   "source": [
    "import webbrowser\n",
    "\n",
    "webbrowser.open('https://learn.inha.ac.kr/')"
   ]
  },
  {
   "attachments": {},
   "cell_type": "markdown",
   "metadata": {},
   "source": [
    "## requests\n",
    "- third party module\n",
    "    - `pip install --user requests`\n",
    "- The requests.get() function takes a `string` of a URL to download"
   ]
  },
  {
   "cell_type": "code",
   "execution_count": null,
   "metadata": {},
   "outputs": [],
   "source": []
  },
  {
   "cell_type": "code",
   "execution_count": 73,
   "metadata": {},
   "outputs": [],
   "source": [
    "import requests\n",
    "response = requests.get('https://raw.githubusercontent.com/Jumabek/software_programming_in_python/main/individual_project_sample/app.py')"
   ]
  },
  {
   "cell_type": "code",
   "execution_count": 75,
   "metadata": {},
   "outputs": [
    {
     "name": "stdout",
     "output_type": "stream",
     "text": [
      "# following three global variables are used throught the program\n",
      "students = [\n",
      "    'Josue Sutton'\n",
      "    , 'Josephine Graham'\n",
      "    , 'Jesus Moss'\n",
      "    , 'Kian Crane'\n",
      "    ,'Presley Cooper'\n",
      "    ,'Jaeden Yu'\n",
      "    ,'Lorenzoption Lawrence'\n",
      "    ,'Lindsey Mcdonald'\n",
      "    ,'Grace Rivers'\n",
      "    ,'Lawrence Giles'\n",
      "    ,'Blake Odonnell'\n",
      "    ,'Alexis Bruce'\n",
      "]\n",
      "questions_asked = [0]*len(students) # makes a list with length of students, and fills it with 0\n",
      "correct_answers = [0]*len(students) # makes a list with length of students, and fills it with 0\n",
      "\n",
      "\n",
      "def print_user_options():\n",
      "    print(\"Select option for performing an operation:\\n\")\n",
      "    print(\"pa - print all students\")\n",
      "    print(\"a - ask a question\")\n",
      "    print(\"p - print the performance of the students\")\n",
      "    print(\"q - quit\")\n",
      "    option = input(\"enter here: \")\n",
      "    return option\n",
      "\n",
      "\n",
      "def print_all_students():\n",
      "    print(\"All students:\")\n",
      "    for i, student in enumerate(students):\n",
      "        print(i, student)\n",
      "\n",
      "\n",
      "def get_random_student():\n",
      "    import random\n",
      "    return random.choice(students)\n",
      "\n",
      "\n",
      "def ask_question():\n",
      "    '''\n",
      "        1. selects a random student\n",
      "        2. records whether answer is correct\n",
      "    '''\n",
      "    selected_student = get_random_student()\n",
      "    print(\"Selected student: \", selected_student)\n",
      "\n",
      "    print(\"Now teacher asks the question...\")\n",
      "    input(\"press enter to record students response...\") # used for pausing\n",
      "    \n",
      "    print(\"is the answer correct teacher?\")\n",
      "    teacher_input = input(\"enter 'Y' or 'N': \")\n",
      "    if teacher_input not in ['Y','N']:\n",
      "        print(\"Invalid input\")\n",
      "        return # incase of invalid input, we don't want to continue\n",
      "\n",
      "    # now we get the student index, then update his performance\n",
      "    I = students.index(selected_student)\n",
      "    questions_asked[I] += 1 # add 1 to the number of questions asked\n",
      "    if teacher_input == 'Y':\n",
      "        correct_answers[I] += 1 # add 1 to the number of correct answers\n",
      "    print(\"Student answer is recorded!\")\n",
      "\n",
      "\n",
      "def print_performance():\n",
      "    print(\"***Performance:***\")\n",
      "    for i, student in enumerate(students):\n",
      "        if questions_asked[i]> 0:\n",
      "            print(student, \":\", correct_answers[i], \"/\", questions_asked[i])\n",
      "\n",
      "\n",
      "print(\"Welcome to the Student Questioner App\")\n",
      "print(\"This app will help you to ask questions to students randomly and keep their progress\")\n",
      "print(\"Let's get started\")\n",
      "while True:\n",
      "    try: # ensures loops keeps running even if there is an error\n",
      "        print(\"-----------------------------\")\n",
      "        option= print_user_options()\n",
      "        print('You selected option: ', option)\n",
      "        print()\n",
      "\n",
      "        if option== 'p':\n",
      "            print_performance()\n",
      "        elif option== 'pa':\n",
      "            print_all_students()\n",
      "        elif option== 'a':\n",
      "            ask_question() # this function will ask a question from randomly selected student and record the answer\n",
      "        elif option=='q':\n",
      "            print(\"Quitting\")\n",
      "            break\n",
      "        else:\n",
      "            print(\"Invalid option\")\n",
      "        \n",
      "        print('\\n\\n')\n",
      "        input(\"press any key to continue\")# this pauses the program until user presses any key to continue\n",
      "\n",
      "    except BaseException as e:\n",
      "        print(\"Exception occurred. But program keeps running\")\n",
      "        \n"
     ]
    }
   ],
   "source": [
    "print(response.text)"
   ]
  },
  {
   "cell_type": "code",
   "execution_count": 76,
   "metadata": {},
   "outputs": [
    {
     "data": {
      "text/plain": [
       "requests.models.Response"
      ]
     },
     "execution_count": 76,
     "metadata": {},
     "output_type": "execute_result"
    }
   ],
   "source": [
    "type(response)"
   ]
  },
  {
   "cell_type": "code",
   "execution_count": 77,
   "metadata": {},
   "outputs": [
    {
     "data": {
      "text/plain": [
       "200"
      ]
     },
     "execution_count": 77,
     "metadata": {},
     "output_type": "execute_result"
    }
   ],
   "source": [
    "response.status_code "
   ]
  },
  {
   "attachments": {},
   "cell_type": "markdown",
   "metadata": {},
   "source": [
    "![](2022-12-15-11-14-32.png)"
   ]
  },
  {
   "cell_type": "code",
   "execution_count": null,
   "metadata": {},
   "outputs": [],
   "source": []
  },
  {
   "attachments": {},
   "cell_type": "markdown",
   "metadata": {},
   "source": [
    "## download HTML content"
   ]
  },
  {
   "cell_type": "code",
   "execution_count": 78,
   "metadata": {},
   "outputs": [
    {
     "name": "stdout",
     "output_type": "stream",
     "text": [
      "<!DOCTYPE html>\n",
      "<html  dir=\"ltr\" lang=\"ko\" xml:lang=\"ko\" class=\"html_login\">\n",
      "<head>\n",
      "    <title>인하대학교 I-Class</title>\n",
      "    <meta http-equiv=\"X-UA-Compatible\" content=\"IE=edge\" />\n",
      "    <meta name=\"viewport\" content=\"width=device-width, initial-scale=1, maximum-scale=1, minimum-scale=1, user-scalable=no, target-densitydpi=medium-dpi\" />\n",
      "    <meta name=\"keywords\" content=\"moodle, coursemos, 코스모스\">\n",
      "    <link rel=\"shortcut icon\" href=\"https://learn.inha.ac.kr/theme/image.php/coursemosv2/theme/1670223805/favicon\" />\n",
      "    <meta http-equiv=\"Content-Type\" content=\"text/html; charset=utf-8\" />\n",
      "<meta name=\"keywords\" content=\"moodle, 인하대학교 학습관리시스템: 사이트에 로그인\" />\n",
      "<link rel=\"stylesheet\" type=\"text/css\" href=\"https://learn.inha.ac.kr/theme/yui_combo.php?rollup/3.17.2/yui-moodlesimple-min.css\" /><script id=\"firstthemesheet\" type=\"text/css\">/** Required in order to fix style inclusion problems in IE with YUI **/</script><link rel=\"stylesheet\" type=\"text/css\" href=\"https://learn.inha.ac.kr/theme/styl\n"
     ]
    }
   ],
   "source": [
    "res = requests.get('https://learn.inha.ac.kr/')\n",
    "print(res.text[:1000])\n"
   ]
  },
  {
   "attachments": {},
   "cell_type": "markdown",
   "metadata": {},
   "source": [
    "## What is HTML\n",
    "- An HTML file is a plaintext file with the .html file extension.\n",
    "- text in this files ss surrounded by `tag`s\n",
    "    - `<title>인하대학교 I-Class</title>`\n",
    "- The `tag`s tell the browser how to format the web page\n",
    "    - E: <strong>Hello</strong>, world! example\n",
    "    - E: `<strong>Hello</strong>`, world! example\n",
    "- Example tag for hyperlink\n",
    "    - Al's free `<a href=\"https://inventwithpython.com\">Python books</a>`.\n",
    "    - <a href=\"https://inventwithpython.com\">Python books</a>\n",
    "- we can view source HTML of web page\n",
    "- Inspect Element using developer tools\n"
   ]
  },
  {
   "attachments": {},
   "cell_type": "markdown",
   "metadata": {},
   "source": [
    "## Viewing the Source HTML of a Web Page\n"
   ]
  },
  {
   "cell_type": "code",
   "execution_count": null,
   "metadata": {},
   "outputs": [],
   "source": []
  },
  {
   "attachments": {},
   "cell_type": "markdown",
   "metadata": {},
   "source": [
    "## save downloaded files to the hard drive (local computer storage)"
   ]
  },
  {
   "cell_type": "code",
   "execution_count": 79,
   "metadata": {},
   "outputs": [
    {
     "name": "stdout",
     "output_type": "stream",
     "text": [
      "<!DOCTYPE html>\n",
      "<html  dir=\"ltr\" lang=\"ko\" xml:lang=\"ko\" class=\"html_login\">\n",
      "<head>\n",
      "    <title>인하대학교 I-Class</title>\n",
      "    <meta http-equiv=\"X-UA-Compatible\" content=\"IE=edge\" />\n",
      "    <meta name=\"viewport\" content=\"width=device-width, initial-scale=1, maximum-scale=1, minimum-scale=1, user-scalable=no, target-densitydpi=medium-dpi\" />\n",
      "    <meta name=\"keywords\" content=\"moodle, coursemos, 코스모스\">\n",
      "    <link rel=\"shortcut icon\" href=\"https://learn.inha.ac.kr/theme/image.php/coursemosv2/theme/1670223805/favicon\" />\n",
      "    <meta http-equiv=\"Content-Type\" content=\"text/html; charset=utf-8\" />\n",
      "<meta name=\"keywords\" content=\"moodle, 인하대학교 학습관리시스템: 사이트에 로그인\" />\n",
      "<link rel=\"stylesheet\" type=\"text/css\" href=\"https://learn.inha.ac.kr/theme/yui_combo.php?rollup/3.17.2/yui-moodlesimple-min.css\" /><script id=\"firstthemesheet\" type=\"text/css\">/** Required in order to fix style inclusion problems in IE with YUI **/</script><link rel=\"stylesheet\" type=\"text/css\" href=\"https://learn.inha.ac.kr/theme/styl\n"
     ]
    }
   ],
   "source": [
    "print(res.text[:1000])"
   ]
  },
  {
   "cell_type": "code",
   "execution_count": 80,
   "metadata": {},
   "outputs": [],
   "source": [
    "with open('my_inha_board.html', 'w') as f:\n",
    "    f.write(res.text)"
   ]
  },
  {
   "cell_type": "code",
   "execution_count": null,
   "metadata": {},
   "outputs": [],
   "source": []
  },
  {
   "cell_type": "code",
   "execution_count": null,
   "metadata": {},
   "outputs": [],
   "source": [
    "#contents > table > tbody > tr:nth-child(2) > td:nth-child(1)"
   ]
  },
  {
   "attachments": {},
   "cell_type": "markdown",
   "metadata": {},
   "source": [
    "## bs4 - Parsing HTML with the bs4 Module\n",
    "![](2022-12-15-11-51-19.png)\n",
    "- bs4 is better than regular expressions for web pages\n",
    "    - https://beautiful-soup-4.readthedocs.io/en/latest/\n",
    "- thirds party module for extracting info from HTML page\n",
    "    - `!pip install --user beautifulsoup4`"
   ]
  },
  {
   "cell_type": "code",
   "execution_count": null,
   "metadata": {},
   "outputs": [],
   "source": []
  },
  {
   "cell_type": "code",
   "execution_count": 81,
   "metadata": {},
   "outputs": [],
   "source": [
    "import requests, bs4\n",
    "url = 'https://web.kma.go.kr/eng/weather/forecast/current_korea.jsp'\n",
    "response = requests.get(url)"
   ]
  },
  {
   "cell_type": "code",
   "execution_count": 82,
   "metadata": {},
   "outputs": [
    {
     "name": "stdout",
     "output_type": "stream",
     "text": [
      "200\n"
     ]
    }
   ],
   "source": [
    "print(res.status_code)"
   ]
  },
  {
   "cell_type": "code",
   "execution_count": null,
   "metadata": {},
   "outputs": [],
   "source": [
    "# Let's see how we can select specific information using BS4"
   ]
  },
  {
   "cell_type": "code",
   "execution_count": 83,
   "metadata": {},
   "outputs": [
    {
     "data": {
      "text/plain": [
       "bs4.BeautifulSoup"
      ]
     },
     "execution_count": 83,
     "metadata": {},
     "output_type": "execute_result"
    }
   ],
   "source": [
    "selector = '#contents > table > tbody > tr:nth-child(13) > td:nth-child(1)'\n",
    "\n",
    "soup = bs4.BeautifulSoup(response.text, 'html.parser')\n",
    "type(soup)"
   ]
  },
  {
   "cell_type": "code",
   "execution_count": 87,
   "metadata": {},
   "outputs": [
    {
     "data": {
      "text/plain": [
       "[<td>Incheon</td>]"
      ]
     },
     "execution_count": 87,
     "metadata": {},
     "output_type": "execute_result"
    }
   ],
   "source": [
    "soup.select('#contents > table > tbody > tr:nth-child(13) > td:nth-child(1)')"
   ]
  },
  {
   "cell_type": "code",
   "execution_count": 88,
   "metadata": {},
   "outputs": [
    {
     "data": {
      "text/plain": [
       "'Incheon'"
      ]
     },
     "execution_count": 88,
     "metadata": {},
     "output_type": "execute_result"
    }
   ],
   "source": [
    "soup.select(selector)[0].text"
   ]
  },
  {
   "cell_type": "code",
   "execution_count": null,
   "metadata": {},
   "outputs": [],
   "source": []
  },
  {
   "attachments": {},
   "cell_type": "markdown",
   "metadata": {},
   "source": [
    "## Generalizing\n",
    "![](2022-12-15-12-17-07.png)"
   ]
  },
  {
   "cell_type": "code",
   "execution_count": 102,
   "metadata": {},
   "outputs": [
    {
     "data": {
      "text/plain": [
       "[<td>Incheon</td>,\n",
       " <td>mist</td>,\n",
       " <td>7.43</td>,\n",
       " <td>8</td>,\n",
       " <td>-2.1</td>,\n",
       " <td>NE</td>,\n",
       " <td>3.9</td>,\n",
       " <td>87</td>,\n",
       " <td>2.5</td>,\n",
       " <td>1023.3</td>]"
      ]
     },
     "execution_count": 102,
     "metadata": {},
     "output_type": "execute_result"
    }
   ],
   "source": [
    "selector='#contents > table > tbody > tr:nth-child(13) td'\n",
    "\n",
    "soupObject = bs4.BeautifulSoup(response.text, 'html.parser')\n",
    "selected_elems = soupObject.select(selector)\n",
    "selected_elems"
   ]
  },
  {
   "cell_type": "code",
   "execution_count": 103,
   "metadata": {},
   "outputs": [
    {
     "data": {
      "text/plain": [
       "10"
      ]
     },
     "execution_count": 103,
     "metadata": {},
     "output_type": "execute_result"
    }
   ],
   "source": [
    "len(selected_elems)"
   ]
  },
  {
   "cell_type": "code",
   "execution_count": 105,
   "metadata": {},
   "outputs": [
    {
     "data": {
      "text/plain": [
       "'Temperature at Incheon is -2.1 Degrees Celsius'"
      ]
     },
     "execution_count": 105,
     "metadata": {},
     "output_type": "execute_result"
    }
   ],
   "source": [
    "f'Temperature at {selected_elems[0].text} is {selected_elems[4].text} Degrees Celsius'"
   ]
  },
  {
   "attachments": {},
   "cell_type": "markdown",
   "metadata": {},
   "source": [
    "## putting it all together"
   ]
  },
  {
   "cell_type": "code",
   "execution_count": 108,
   "metadata": {},
   "outputs": [
    {
     "name": "stdout",
     "output_type": "stream",
     "text": [
      "Temperature at Sokcho is 0.8 Degrees Celsius\n"
     ]
    }
   ],
   "source": [
    "import requests, bs4\n",
    "url = 'https://web.kma.go.kr/eng/weather/forecast/current_korea.jsp'\n",
    "response = requests.get(url)\n",
    "\n",
    "soupObject = bs4.BeautifulSoup(response.text, 'html.parser')\n",
    "\n",
    "selector='#contents > table > tbody > tr:nth-child(1) td'\n",
    "selected_elems = soupObject.select(selector)\n",
    "text = f'Temperature at {selected_elems[0].text} is {selected_elems[4].text} Degrees Celsius'\n",
    "print(text)"
   ]
  },
  {
   "attachments": {},
   "cell_type": "markdown",
   "metadata": {},
   "source": [
    "## generalizing to all cities"
   ]
  },
  {
   "cell_type": "code",
   "execution_count": 110,
   "metadata": {},
   "outputs": [],
   "source": [
    "'#contents > table > tbody > tr:nth-child(97)'\n",
    "'#contents > table > tbody > tr:nth-child(1)'\n",
    "d = {}\n",
    "for i in range(1,98):\n",
    "    selector=f'#contents > table > tbody > tr:nth-child({i}) td'\n",
    "    selected_elems = soupObject.select(selector)\n",
    "    city = selected_elems[0].text\n",
    "    temp = selected_elems[4].text\n",
    "    #text = f'Temperature at {city} is {temp} Degrees Celsius'\n",
    "    #print(text)\n",
    "    d[city]=temp"
   ]
  },
  {
   "cell_type": "code",
   "execution_count": null,
   "metadata": {},
   "outputs": [],
   "source": [
    "d"
   ]
  },
  {
   "cell_type": "code",
   "execution_count": null,
   "metadata": {},
   "outputs": [],
   "source": [
    "sorted_d = dict(sorted(d.items(), key=lambda item: item[1]))\n",
    "sorted_d\n"
   ]
  },
  {
   "cell_type": "code",
   "execution_count": null,
   "metadata": {},
   "outputs": [],
   "source": [
    "sum(sorted_d.values())/len(sorted_d)"
   ]
  },
  {
   "cell_type": "code",
   "execution_count": null,
   "metadata": {},
   "outputs": [],
   "source": [
    "sorted_d['Incheon']"
   ]
  },
  {
   "cell_type": "code",
   "execution_count": null,
   "metadata": {},
   "outputs": [],
   "source": [
    "import matplotlib.pyplot as plt\n",
    "plt.figure(figsize=(20,5))\n",
    "plt.bar(sorted_d.keys(), sorted_d.values())\n",
    "plt.xticks(rotation=90);"
   ]
  },
  {
   "cell_type": "code",
   "execution_count": null,
   "metadata": {},
   "outputs": [],
   "source": []
  },
  {
   "cell_type": "code",
   "execution_count": null,
   "metadata": {},
   "outputs": [],
   "source": []
  },
  {
   "attachments": {},
   "cell_type": "markdown",
   "metadata": {},
   "source": [
    "# Selinium\n",
    "- follow the guide from textbook to install chromedriver\n",
    "- https://sites.google.com/a/chromium.org/chromedriver/downloads"
   ]
  },
  {
   "cell_type": "code",
   "execution_count": null,
   "metadata": {},
   "outputs": [],
   "source": [
    "from selenium import webdriver\n",
    "browser = webdriver.Chrome()\n",
    "browser.get('https://learn.inha.ac.kr/')"
   ]
  },
  {
   "cell_type": "code",
   "execution_count": null,
   "metadata": {},
   "outputs": [],
   "source": [
    "type(browser)"
   ]
  },
  {
   "cell_type": "code",
   "execution_count": null,
   "metadata": {},
   "outputs": [],
   "source": [
    "user_name_elem = browser.find_element('id','input-username')\n",
    "user_name_elem.send_keys('jumabek')"
   ]
  },
  {
   "cell_type": "code",
   "execution_count": null,
   "metadata": {},
   "outputs": [],
   "source": [
    "password_elem = browser.find_element('id','input-password')\n",
    "password_elem.send_keys('not_my_password')"
   ]
  },
  {
   "cell_type": "code",
   "execution_count": null,
   "metadata": {},
   "outputs": [],
   "source": []
  },
  {
   "cell_type": "markdown",
   "metadata": {},
   "source": []
  },
  {
   "cell_type": "markdown",
   "metadata": {},
   "source": []
  }
 ],
 "metadata": {
  "kernelspec": {
   "display_name": "Python 3",
   "language": "python",
   "name": "python3"
  },
  "language_info": {
   "codemirror_mode": {
    "name": "ipython",
    "version": 3
   },
   "file_extension": ".py",
   "mimetype": "text/x-python",
   "name": "python",
   "nbconvert_exporter": "python",
   "pygments_lexer": "ipython3",
   "version": "3.10.6"
  },
  "orig_nbformat": 4,
  "vscode": {
   "interpreter": {
    "hash": "916dbcbb3f70747c44a77c7bcd40155683ae19c65e1c03b4aa3499c5328201f1"
   }
  }
 },
 "nbformat": 4,
 "nbformat_minor": 2
}
