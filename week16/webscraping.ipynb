{
 "cells": [
  {
   "cell_type": "markdown",
   "metadata": {},
   "source": [
    "# Web scraping"
   ]
  },
  {
   "cell_type": "markdown",
   "metadata": {},
   "source": [
    "## got to website and download 10 files\n",
    "- https://www.worksheetfun.com/2013/03/16/number-coloring-pages-10-worksheets/\n"
   ]
  },
  {
   "cell_type": "code",
   "execution_count": 1,
   "metadata": {},
   "outputs": [
    {
     "name": "stdout",
     "output_type": "stream",
     "text": [
      "http://www.worksheetfun.com/counting/number%201%20coloring.pdf\n",
      "http://www.worksheetfun.com/counting/number%202%20coloring.pdf\n",
      "http://www.worksheetfun.com/counting/number%203%20coloring.pdf\n",
      "http://www.worksheetfun.com/counting/number%204%20coloring.pdf\n",
      "http://www.worksheetfun.com/counting/number%205%20coloring.pdf\n",
      "http://www.worksheetfun.com/counting/number%206%20coloring.pdf\n",
      "http://www.worksheetfun.com/counting/number%207%20coloring.pdf\n",
      "http://www.worksheetfun.com/counting/number%208%20coloring.pdf\n",
      "http://www.worksheetfun.com/counting/number%209%20coloring.pdf\n",
      "http://www.worksheetfun.com/counting/number%2010%20coloring.pdf\n"
     ]
    }
   ],
   "source": [
    "for i in range(1,11):\n",
    "    url = f'http://www.worksheetfun.com/counting/number%20{i}%20coloring.pdf'\n",
    "    print(url)"
   ]
  },
  {
   "cell_type": "code",
   "execution_count": 2,
   "metadata": {},
   "outputs": [
    {
     "name": "stdout",
     "output_type": "stream",
     "text": [
      "http://www.worksheetfun.com/counting/number%201%20coloring.pdf\n",
      "<Response [403]>\n",
      "http://www.worksheetfun.com/counting/number%202%20coloring.pdf\n",
      "<Response [403]>\n",
      "http://www.worksheetfun.com/counting/number%203%20coloring.pdf\n",
      "<Response [200]>\n",
      "http://www.worksheetfun.com/counting/number%204%20coloring.pdf\n",
      "<Response [200]>\n",
      "http://www.worksheetfun.com/counting/number%205%20coloring.pdf\n",
      "<Response [200]>\n",
      "http://www.worksheetfun.com/counting/number%206%20coloring.pdf\n",
      "<Response [200]>\n",
      "http://www.worksheetfun.com/counting/number%207%20coloring.pdf\n",
      "<Response [403]>\n",
      "http://www.worksheetfun.com/counting/number%208%20coloring.pdf\n",
      "<Response [403]>\n",
      "http://www.worksheetfun.com/counting/number%209%20coloring.pdf\n",
      "<Response [403]>\n",
      "http://www.worksheetfun.com/counting/number%2010%20coloring.pdf\n",
      "<Response [200]>\n"
     ]
    }
   ],
   "source": [
    "# http://www.worksheetfun.com/counting/number%201%20coloring.pdf\n",
    "# http://www.worksheetfun.com/counting/number%202%20coloring.pdf\n",
    "import requests # it web scraping library \n",
    "\n",
    "for i in range(1,11):\n",
    "    url = f'http://www.worksheetfun.com/counting/number%20{i}%20coloring.pdf'\n",
    "    print(url)\n",
    "    r = requests.get(url)\n",
    "    print(r)"
   ]
  },
  {
   "cell_type": "code",
   "execution_count": 4,
   "metadata": {},
   "outputs": [
    {
     "name": "stdout",
     "output_type": "stream",
     "text": [
      "http://www.worksheetfun.com/counting/number%201%20coloring.pdf\n",
      "<Response [200]>\n",
      "http://www.worksheetfun.com/counting/number%202%20coloring.pdf\n",
      "<Response [200]>\n",
      "http://www.worksheetfun.com/counting/number%203%20coloring.pdf\n",
      "<Response [200]>\n",
      "http://www.worksheetfun.com/counting/number%204%20coloring.pdf\n",
      "<Response [200]>\n",
      "http://www.worksheetfun.com/counting/number%205%20coloring.pdf\n",
      "<Response [200]>\n",
      "http://www.worksheetfun.com/counting/number%206%20coloring.pdf\n",
      "<Response [200]>\n",
      "http://www.worksheetfun.com/counting/number%207%20coloring.pdf\n",
      "<Response [200]>\n",
      "http://www.worksheetfun.com/counting/number%208%20coloring.pdf\n",
      "<Response [200]>\n",
      "http://www.worksheetfun.com/counting/number%209%20coloring.pdf\n",
      "<Response [200]>\n",
      "http://www.worksheetfun.com/counting/number%2010%20coloring.pdf\n",
      "<Response [200]>\n"
     ]
    }
   ],
   "source": [
    "# http://www.worksheetfun.com/counting/number%201%20coloring.pdf\n",
    "# http://www.worksheetfun.com/counting/number%202%20coloring.pdf\n",
    "import requests # it web scraping library \n",
    "headers = {'User-Agent':'Mozilla/5.0 (X11; Linux x86_64)\\\n",
    " AppleWebKit/537.36 (KHTML, like Gecko) Chrome/107.0.0.0 Safari/537.36'}\n",
    "\n",
    "for i in range(1,11):\n",
    "    url = f'http://www.worksheetfun.com/counting/number%20{i}%20coloring.pdf'\n",
    "    print(url)\n",
    "    r = requests.get(url,headers=headers)\n",
    "    print(r)"
   ]
  },
  {
   "cell_type": "code",
   "execution_count": 2,
   "metadata": {},
   "outputs": [
    {
     "name": "stdout",
     "output_type": "stream",
     "text": [
      "http://www.worksheetfun.com/counting/number%201%20coloring.pdf\n",
      "http://www.worksheetfun.com/counting/number%202%20coloring.pdf\n",
      "http://www.worksheetfun.com/counting/number%203%20coloring.pdf\n",
      "http://www.worksheetfun.com/counting/number%204%20coloring.pdf\n",
      "http://www.worksheetfun.com/counting/number%205%20coloring.pdf\n",
      "http://www.worksheetfun.com/counting/number%206%20coloring.pdf\n",
      "http://www.worksheetfun.com/counting/number%207%20coloring.pdf\n",
      "http://www.worksheetfun.com/counting/number%208%20coloring.pdf\n",
      "http://www.worksheetfun.com/counting/number%209%20coloring.pdf\n",
      "http://www.worksheetfun.com/counting/number%2010%20coloring.pdf\n"
     ]
    }
   ],
   "source": [
    "# http://www.worksheetfun.com/counting/number%201%20coloring.pdf\n",
    "# http://www.worksheetfun.com/counting/number%202%20coloring.pdf\n",
    "import requests # it web scraping library \n",
    "\n",
    "for i in range(1,11):\n",
    "    url = f'http://www.worksheetfun.com/counting/number%20{i}%20coloring.pdf'\n",
    "    print(url)\n",
    "    r = requests.get(url)\n",
    "    with open(f'downloads/number{i}.pdf', 'wb') as f: # just opening file\n",
    "        f.write(r.content)"
   ]
  },
  {
   "cell_type": "code",
   "execution_count": 4,
   "metadata": {},
   "outputs": [],
   "source": [
    "headers = {'User-Agent':'Mozilla/5.0 (X11; Linux x86_64) AppleWebKit/537.36 (KHTML, like Gecko) Chrome/107.0.0.0 Safari/537.36'}\n"
   ]
  },
  {
   "cell_type": "code",
   "execution_count": 4,
   "metadata": {},
   "outputs": [
    {
     "name": "stdout",
     "output_type": "stream",
     "text": [
      "http://www.worksheetfun.com/counting/number%201%20coloring.pdf\n",
      "http://www.worksheetfun.com/counting/number%202%20coloring.pdf\n",
      "http://www.worksheetfun.com/counting/number%203%20coloring.pdf\n",
      "http://www.worksheetfun.com/counting/number%204%20coloring.pdf\n",
      "http://www.worksheetfun.com/counting/number%205%20coloring.pdf\n",
      "http://www.worksheetfun.com/counting/number%206%20coloring.pdf\n",
      "http://www.worksheetfun.com/counting/number%207%20coloring.pdf\n",
      "http://www.worksheetfun.com/counting/number%208%20coloring.pdf\n",
      "http://www.worksheetfun.com/counting/number%209%20coloring.pdf\n",
      "http://www.worksheetfun.com/counting/number%2010%20coloring.pdf\n"
     ]
    }
   ],
   "source": [
    "# http://www.worksheetfun.com/counting/number%201%20coloring.pdf\n",
    "# http://www.worksheetfun.com/counting/number%202%20coloring.pdf\n",
    "import requests\n",
    "\n",
    "for i in range(1,11):\n",
    "    url = f'http://www.worksheetfun.com/counting/number%20{i}%20coloring.pdf'\n",
    "    print(url)\n",
    "    r = requests.get(url,headers=headers)\n",
    "    with open(f'downloads/number{i}.pdf', 'wb') as f: # 'wb' write binary\n",
    "        f.write(r.content)"
   ]
  },
  {
   "attachments": {},
   "cell_type": "markdown",
   "metadata": {},
   "source": [
    "# Diving deeper \n",
    "- Web scraping - using a program to download and process content from the web.![](../images/2022-12-02-10-08-10.png)"
   ]
  },
  {
   "cell_type": "code",
   "execution_count": null,
   "metadata": {},
   "outputs": [],
   "source": []
  },
  {
   "cell_type": "markdown",
   "metadata": {},
   "source": [
    "## python modules for web scraping\n",
    "- `webbrowser` Comes with Python and opens a browser to a specific page.\n",
    "- `requests` Downloads files and web pages from the internet.\n",
    "\n",
    "- `bs4` Parses HTML, the format that web pages are written in.\n",
    "\n",
    "- `selenium` Launches and controls a web browser. The selenium module is able to fill in forms and simulate mouse clicks in this browser."
   ]
  },
  {
   "attachments": {},
   "cell_type": "markdown",
   "metadata": {},
   "source": [
    "## Webbrowser \n",
    "- open a browser\n",
    "- example with map it\n",
    "    - `python mapIt.py inha university incheon`"
   ]
  },
  {
   "cell_type": "code",
   "execution_count": 6,
   "metadata": {},
   "outputs": [],
   "source": []
  },
  {
   "cell_type": "code",
   "execution_count": 2,
   "metadata": {},
   "outputs": [
    {
     "data": {
      "text/plain": [
       "True"
      ]
     },
     "execution_count": 2,
     "metadata": {},
     "output_type": "execute_result"
    }
   ],
   "source": [
    "import webbrowser\n",
    "\n",
    "webbrowser.open('https://learn.inha.ac.kr/')"
   ]
  },
  {
   "attachments": {},
   "cell_type": "markdown",
   "metadata": {},
   "source": [
    "## requests\n",
    "- third party module\n",
    "    - `pip install --user requests`\n",
    "- The requests.get() function takes a `string` of a URL to download"
   ]
  },
  {
   "cell_type": "code",
   "execution_count": null,
   "metadata": {},
   "outputs": [],
   "source": []
  },
  {
   "cell_type": "code",
   "execution_count": 12,
   "metadata": {},
   "outputs": [],
   "source": [
    "import requests\n",
    "res = requests.get('https://automatetheboringstuff.com/files/rj.txt')"
   ]
  },
  {
   "cell_type": "code",
   "execution_count": 13,
   "metadata": {},
   "outputs": [
    {
     "data": {
      "text/plain": [
       "requests.models.Response"
      ]
     },
     "execution_count": 13,
     "metadata": {},
     "output_type": "execute_result"
    }
   ],
   "source": [
    "type(res)"
   ]
  },
  {
   "cell_type": "code",
   "execution_count": 14,
   "metadata": {},
   "outputs": [
    {
     "data": {
      "text/plain": [
       "200"
      ]
     },
     "execution_count": 14,
     "metadata": {},
     "output_type": "execute_result"
    }
   ],
   "source": [
    "res.status_code "
   ]
  },
  {
   "cell_type": "code",
   "execution_count": null,
   "metadata": {},
   "outputs": [],
   "source": [
    "res.text"
   ]
  },
  {
   "cell_type": "code",
   "execution_count": 23,
   "metadata": {},
   "outputs": [
    {
     "data": {
      "text/plain": [
       "'\\ufeff<!DOCTYPE html>\\n<html  dir=\"ltr\" lang=\"ko\" xml:lang=\"ko\" class=\"html_login\">\\r\\n<head>\\r\\n    <title>인하대학교 I-Class</title>\\r\\n    <meta http-equiv=\"X-UA-Compatible\" content=\"IE=edge\" />\\r\\n    <meta name=\"viewport\" content=\"width=device-width, initial-scale=1, maximum-scale=1, minimum-scale=1, user-scalable=no, target-densitydpi=medium-dpi\" />\\r\\n    <meta name=\"keywords\" content=\"moodle, coursemos, 코스모스\">\\r\\n    <link rel=\"shortcut icon\" href=\"https://learn.inha.ac.kr/theme/image.php/coursemosv2/theme/1668669293/favicon\" />\\r\\n    <meta http-equiv=\"Content-Type\" content=\"text/html; charset=utf-8\" />\\n<meta name=\"keywords\" content=\"moodle, 인하대학교 학습관리시스템: 사이트에 로그인\" />\\n<link rel=\"stylesheet\" type=\"text/css\" href=\"https://learn.inha.ac.kr/theme/yui_combo.php?rollup/3.17.2/yui-moodlesimple-min.css\" /><script id=\"firstthemesheet\" type=\"text/css\">/** Required in order to fix style inclusion problems in IE with YUI **/</script><link rel=\"stylesheet\" type=\"text/css\" href=\"https://learn.inha.ac.kr/theme/styl'"
      ]
     },
     "execution_count": 23,
     "metadata": {},
     "output_type": "execute_result"
    }
   ],
   "source": [
    "res = requests.get('https://learn.inha.ac.kr/')\n",
    "res.text[:1000]\n"
   ]
  },
  {
   "cell_type": "markdown",
   "metadata": {},
   "source": [
    "## What is HTML\n",
    "- An HTML file is a plaintext file with the .html file extension.\n",
    "- text in this files ss surrounded by `tag`s\n",
    "    - `<title>인하대학교 I-Class</title>`\n",
    "- The `tag`s tell the browser how to format the web page\n",
    "    - E: <strong>Hello</strong>, world! example\n",
    "- Example tag for hyperlink\n",
    "    - Al's free <a href=\"https://inventwithpython.com\">Python books</a>.\n",
    "- we can view source HTML of web page\n",
    "- Inspect Element using developer tools\n"
   ]
  },
  {
   "cell_type": "code",
   "execution_count": null,
   "metadata": {},
   "outputs": [],
   "source": []
  },
  {
   "cell_type": "markdown",
   "metadata": {},
   "source": [
    "## bs4"
   ]
  },
  {
   "cell_type": "code",
   "execution_count": 8,
   "metadata": {},
   "outputs": [
    {
     "name": "stdout",
     "output_type": "stream",
     "text": [
      "Looking in indexes: https://pypi.org/simple, https://pypi.ngc.nvidia.com\n",
      "Requirement already satisfied: beautifulsoup4 in /home/juma/.local/lib/python3.10/site-packages (4.11.1)\n",
      "Requirement already satisfied: soupsieve>1.2 in /home/juma/.local/lib/python3.10/site-packages (from beautifulsoup4) (2.3.2.post1)\n",
      "\n",
      "\u001b[1m[\u001b[0m\u001b[34;49mnotice\u001b[0m\u001b[1;39;49m]\u001b[0m\u001b[39;49m A new release of pip available: \u001b[0m\u001b[31;49m22.3\u001b[0m\u001b[39;49m -> \u001b[0m\u001b[32;49m22.3.1\u001b[0m\n",
      "\u001b[1m[\u001b[0m\u001b[34;49mnotice\u001b[0m\u001b[1;39;49m]\u001b[0m\u001b[39;49m To update, run: \u001b[0m\u001b[32;49mpip install --upgrade pip\u001b[0m\n"
     ]
    }
   ],
   "source": [
    "!pip install --user beautifulsoup4"
   ]
  },
  {
   "cell_type": "code",
   "execution_count": 9,
   "metadata": {},
   "outputs": [],
   "source": [
    "import requests, bs4\n",
    "res = requests.get('https://dataverse.harvard.edu/dataset.xhtml?persistentId=doi:10.7910/DVN/N7GJYU')"
   ]
  },
  {
   "cell_type": "code",
   "execution_count": 11,
   "metadata": {},
   "outputs": [
    {
     "name": "stdout",
     "output_type": "stream",
     "text": [
      "None\n"
     ]
    }
   ],
   "source": [
    "print(res.raise_for_status())"
   ]
  },
  {
   "cell_type": "code",
   "execution_count": null,
   "metadata": {},
   "outputs": [],
   "source": []
  }
 ],
 "metadata": {
  "kernelspec": {
   "display_name": "Python 3",
   "language": "python",
   "name": "python3"
  },
  "language_info": {
   "codemirror_mode": {
    "name": "ipython",
    "version": 3
   },
   "file_extension": ".py",
   "mimetype": "text/x-python",
   "name": "python",
   "nbconvert_exporter": "python",
   "pygments_lexer": "ipython3",
   "version": "3.10.6"
  },
  "orig_nbformat": 4,
  "vscode": {
   "interpreter": {
    "hash": "916dbcbb3f70747c44a77c7bcd40155683ae19c65e1c03b4aa3499c5328201f1"
   }
  }
 },
 "nbformat": 4,
 "nbformat_minor": 2
}
