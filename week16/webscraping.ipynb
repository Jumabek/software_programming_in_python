{
 "cells": [
  {
   "cell_type": "markdown",
   "metadata": {},
   "source": [
    "# Web scraping"
   ]
  },
  {
   "cell_type": "markdown",
   "metadata": {},
   "source": [
    "## got to website and download 10 files\n",
    "- https://www.worksheetfun.com/2013/03/16/number-coloring-pages-10-worksheets/\n"
   ]
  },
  {
   "cell_type": "code",
   "execution_count": null,
   "metadata": {},
   "outputs": [],
   "source": [
    "for i in range(1,11):\n",
    "    url = f'http://www.worksheetfun.com/counting/number%20{i}%20coloring.pdf'\n",
    "    print(url)"
   ]
  },
  {
   "cell_type": "code",
   "execution_count": null,
   "metadata": {},
   "outputs": [],
   "source": [
    "# http://www.worksheetfun.com/counting/number%201%20coloring.pdf\n",
    "# http://www.worksheetfun.com/counting/number%202%20coloring.pdf\n",
    "import requests # it web scraping library \n",
    "\n",
    "for i in range(1,11):\n",
    "    url = f'http://www.worksheetfun.com/counting/number%20{i}%20coloring.pdf'\n",
    "    print(url)\n",
    "    r = requests.get(url)\n",
    "    print(r)"
   ]
  },
  {
   "cell_type": "code",
   "execution_count": null,
   "metadata": {},
   "outputs": [],
   "source": [
    "# http://www.worksheetfun.com/counting/number%201%20coloring.pdf\n",
    "# http://www.worksheetfun.com/counting/number%202%20coloring.pdf\n",
    "import requests # it web scraping library \n",
    "headers = {'User-Agent':'Mozilla/5.0 (X11; Linux x86_64)\\\n",
    " AppleWebKit/537.36 (KHTML, like Gecko) Chrome/107.0.0.0 Safari/537.36'}\n",
    "\n",
    "for i in range(1,11):\n",
    "    url = f'http://www.worksheetfun.com/counting/number%20{i}%20coloring.pdf'\n",
    "    print(url)\n",
    "    r = requests.get(url,headers=headers)\n",
    "    print(r)"
   ]
  },
  {
   "cell_type": "code",
   "execution_count": null,
   "metadata": {},
   "outputs": [],
   "source": [
    "# http://www.worksheetfun.com/counting/number%201%20coloring.pdf\n",
    "# http://www.worksheetfun.com/counting/number%202%20coloring.pdf\n",
    "import requests # it web scraping library \n",
    "\n",
    "for i in range(1,11):\n",
    "    url = f'http://www.worksheetfun.com/counting/number%20{i}%20coloring.pdf'\n",
    "    print(url)\n",
    "    r = requests.get(url)\n",
    "    with open(f'downloads/number{i}.pdf', 'wb') as f: # just opening file\n",
    "        f.write(r.content)"
   ]
  },
  {
   "cell_type": "code",
   "execution_count": null,
   "metadata": {},
   "outputs": [],
   "source": [
    "headers = {'User-Agent':'Mozilla/5.0 (X11; Linux x86_64) AppleWebKit/537.36 (KHTML, like Gecko) Chrome/107.0.0.0 Safari/537.36'}\n"
   ]
  },
  {
   "cell_type": "code",
   "execution_count": null,
   "metadata": {},
   "outputs": [],
   "source": [
    "# http://www.worksheetfun.com/counting/number%201%20coloring.pdf\n",
    "# http://www.worksheetfun.com/counting/number%202%20coloring.pdf\n",
    "import requests\n",
    "\n",
    "for i in range(1,11):\n",
    "    url = f'http://www.worksheetfun.com/counting/number%20{i}%20coloring.pdf'\n",
    "    print(url)\n",
    "    r = requests.get(url,headers=headers)\n",
    "    with open(f'downloads/number{i}.pdf', 'wb') as f: # 'wb' write binary\n",
    "        f.write(r.content)"
   ]
  },
  {
   "attachments": {},
   "cell_type": "markdown",
   "metadata": {},
   "source": [
    "# Diving deeper \n",
    "- Web scraping - using a program to download and process content from the web.![](../images/2022-12-02-10-08-10.png)"
   ]
  },
  {
   "cell_type": "code",
   "execution_count": null,
   "metadata": {},
   "outputs": [],
   "source": []
  },
  {
   "cell_type": "markdown",
   "metadata": {},
   "source": [
    "## python modules for web scraping\n",
    "- `webbrowser` Comes with Python and opens a browser to a specific page.\n",
    "- `requests` Downloads files and web pages from the internet.\n",
    "\n",
    "- `bs4` Parses HTML, the format that web pages are written in.\n",
    "\n",
    "- `selenium` Launches and controls a web browser. The selenium module is able to fill in forms and simulate mouse clicks in this browser."
   ]
  },
  {
   "attachments": {},
   "cell_type": "markdown",
   "metadata": {},
   "source": [
    "## Webbrowser \n",
    "- open a browser\n",
    "- example with map it\n",
    "    - `python mapIt.py inha university incheon`"
   ]
  },
  {
   "cell_type": "code",
   "execution_count": null,
   "metadata": {},
   "outputs": [],
   "source": []
  },
  {
   "cell_type": "code",
   "execution_count": null,
   "metadata": {},
   "outputs": [],
   "source": [
    "import webbrowser\n",
    "\n",
    "webbrowser.open('https://learn.inha.ac.kr/')"
   ]
  },
  {
   "attachments": {},
   "cell_type": "markdown",
   "metadata": {},
   "source": [
    "## requests\n",
    "- third party module\n",
    "    - `pip install --user requests`\n",
    "- The requests.get() function takes a `string` of a URL to download"
   ]
  },
  {
   "cell_type": "code",
   "execution_count": null,
   "metadata": {},
   "outputs": [],
   "source": []
  },
  {
   "cell_type": "code",
   "execution_count": null,
   "metadata": {},
   "outputs": [],
   "source": [
    "import requests\n",
    "response = requests.get('https://raw.githubusercontent.com/Jumabek/software_programming_in_python/main/individual_project_sample/app.py')"
   ]
  },
  {
   "cell_type": "code",
   "execution_count": null,
   "metadata": {},
   "outputs": [],
   "source": []
  },
  {
   "cell_type": "code",
   "execution_count": null,
   "metadata": {},
   "outputs": [],
   "source": [
    "type(response)"
   ]
  },
  {
   "cell_type": "code",
   "execution_count": null,
   "metadata": {},
   "outputs": [],
   "source": [
    "response.status_code "
   ]
  },
  {
   "attachments": {},
   "cell_type": "markdown",
   "metadata": {},
   "source": [
    "![](2022-12-15-11-14-32.png)"
   ]
  },
  {
   "cell_type": "code",
   "execution_count": null,
   "metadata": {},
   "outputs": [],
   "source": [
    "print(response.text)"
   ]
  },
  {
   "cell_type": "code",
   "execution_count": null,
   "metadata": {},
   "outputs": [],
   "source": []
  },
  {
   "attachments": {},
   "cell_type": "markdown",
   "metadata": {},
   "source": [
    "## download HTML content"
   ]
  },
  {
   "cell_type": "code",
   "execution_count": null,
   "metadata": {},
   "outputs": [],
   "source": [
    "res = requests.get('https://learn.inha.ac.kr/')\n",
    "print(res.text[:1000])\n"
   ]
  },
  {
   "attachments": {},
   "cell_type": "markdown",
   "metadata": {},
   "source": [
    "## What is HTML\n",
    "- An HTML file is a plaintext file with the .html file extension.\n",
    "- text in this files ss surrounded by `tag`s\n",
    "    - `<title>인하대학교 I-Class</title>`\n",
    "- The `tag`s tell the browser how to format the web page\n",
    "    - E: <strong>Hello</strong>, world! example\n",
    "- Example tag for hyperlink\n",
    "    - Al's free `<a href=\"https://inventwithpython.com\">Python books</a>`.\n",
    "- we can view source HTML of web page\n",
    "- Inspect Element using developer tools\n"
   ]
  },
  {
   "attachments": {},
   "cell_type": "markdown",
   "metadata": {},
   "source": [
    "## Viewing the Source HTML of a Web Page\n"
   ]
  },
  {
   "cell_type": "code",
   "execution_count": null,
   "metadata": {},
   "outputs": [],
   "source": []
  },
  {
   "attachments": {},
   "cell_type": "markdown",
   "metadata": {},
   "source": [
    "## save downloaded files to the hard drive (local computer storage)"
   ]
  },
  {
   "cell_type": "code",
   "execution_count": null,
   "metadata": {},
   "outputs": [],
   "source": [
    "print(res.text[:1000])"
   ]
  },
  {
   "cell_type": "code",
   "execution_count": null,
   "metadata": {},
   "outputs": [],
   "source": [
    "with open('learn_inha.html', 'w') as f:\n",
    "    f.write(res.text)"
   ]
  },
  {
   "cell_type": "code",
   "execution_count": null,
   "metadata": {},
   "outputs": [],
   "source": []
  },
  {
   "cell_type": "code",
   "execution_count": null,
   "metadata": {},
   "outputs": [],
   "source": [
    "#contents > table > tbody > tr:nth-child(2) > td:nth-child(1)"
   ]
  },
  {
   "attachments": {},
   "cell_type": "markdown",
   "metadata": {},
   "source": [
    "## bs4 - Parsing HTML with the bs4 Module\n",
    "![](2022-12-15-11-51-19.png)\n",
    "- bs4 is better than regular expressions for web pages\n",
    "    - https://beautiful-soup-4.readthedocs.io/en/latest/\n",
    "- thirds party module for extracting info from HTML page\n",
    "    - `!pip install --user beautifulsoup4`"
   ]
  },
  {
   "cell_type": "code",
   "execution_count": null,
   "metadata": {},
   "outputs": [],
   "source": []
  },
  {
   "cell_type": "code",
   "execution_count": null,
   "metadata": {},
   "outputs": [],
   "source": [
    "import requests, bs4\n",
    "url = 'https://web.kma.go.kr/eng/weather/forecast/current_korea.jsp'\n",
    "response = requests.get(url)"
   ]
  },
  {
   "cell_type": "code",
   "execution_count": null,
   "metadata": {},
   "outputs": [],
   "source": [
    "print(res.status_code)"
   ]
  },
  {
   "cell_type": "code",
   "execution_count": null,
   "metadata": {},
   "outputs": [],
   "source": [
    "# Let's see how we can select specific information using BS4"
   ]
  },
  {
   "cell_type": "code",
   "execution_count": null,
   "metadata": {},
   "outputs": [],
   "source": []
  },
  {
   "attachments": {},
   "cell_type": "markdown",
   "metadata": {},
   "source": [
    "## Generalizing\n",
    "![](2022-12-15-12-17-07.png)"
   ]
  },
  {
   "cell_type": "code",
   "execution_count": null,
   "metadata": {},
   "outputs": [],
   "source": [
    "selector='#contents > table > tbody > tr:nth-child(13) td'\n",
    "#selector = '#contents > table > tbody > tr:nth-child(13)'\n",
    "\n",
    "soupObject = bs4.BeautifulSoup(response.text, 'html.parser')\n",
    "selected_elems = soupObject.select(selector)\n",
    "selected_elems"
   ]
  },
  {
   "cell_type": "code",
   "execution_count": null,
   "metadata": {},
   "outputs": [],
   "source": [
    "len(selected_elems)"
   ]
  },
  {
   "cell_type": "code",
   "execution_count": null,
   "metadata": {},
   "outputs": [],
   "source": [
    "selected_elems[1].text"
   ]
  },
  {
   "cell_type": "code",
   "execution_count": null,
   "metadata": {},
   "outputs": [],
   "source": [
    "f'Temperature at {selected_elems[0].text} is {selected_elems[4].text}'"
   ]
  },
  {
   "attachments": {},
   "cell_type": "markdown",
   "metadata": {},
   "source": [
    "## putting it all together"
   ]
  },
  {
   "cell_type": "code",
   "execution_count": null,
   "metadata": {},
   "outputs": [],
   "source": [
    "import requests, bs4\n",
    "url = 'https://web.kma.go.kr/eng/weather/forecast/current_korea.jsp'\n",
    "response = requests.get(url)\n",
    "\n",
    "soupObject = bs4.BeautifulSoup(response.text, 'html.parser')\n",
    "\n",
    "selector='#contents > table > tbody > tr:nth-child(13) td'\n",
    "selected_elems = soupObject.select(selector)\n",
    "text = f'Temperature at {selected_elems[0].text} is {selected_elems[4].text}'\n",
    "print(text)"
   ]
  },
  {
   "attachments": {},
   "cell_type": "markdown",
   "metadata": {},
   "source": [
    "## generalizing to all cities"
   ]
  },
  {
   "cell_type": "code",
   "execution_count": null,
   "metadata": {},
   "outputs": [],
   "source": []
  },
  {
   "cell_type": "code",
   "execution_count": null,
   "metadata": {},
   "outputs": [],
   "source": [
    "d"
   ]
  },
  {
   "cell_type": "code",
   "execution_count": null,
   "metadata": {},
   "outputs": [],
   "source": [
    "sorted_d = dict(sorted(d.items(), key=lambda item: item[1]))\n",
    "sorted_d\n"
   ]
  },
  {
   "cell_type": "code",
   "execution_count": null,
   "metadata": {},
   "outputs": [],
   "source": [
    "sum(sorted_d.values())/len(sorted_d)"
   ]
  },
  {
   "cell_type": "code",
   "execution_count": null,
   "metadata": {},
   "outputs": [],
   "source": [
    "sorted_d['Incheon']"
   ]
  },
  {
   "cell_type": "code",
   "execution_count": null,
   "metadata": {},
   "outputs": [],
   "source": [
    "import matplotlib.pyplot as plt\n",
    "plt.figure(figsize=(20,5))\n",
    "plt.bar(sorted_d.keys(), sorted_d.values())\n",
    "plt.xticks(rotation=90);"
   ]
  },
  {
   "cell_type": "code",
   "execution_count": null,
   "metadata": {},
   "outputs": [],
   "source": []
  },
  {
   "cell_type": "code",
   "execution_count": null,
   "metadata": {},
   "outputs": [],
   "source": []
  },
  {
   "attachments": {},
   "cell_type": "markdown",
   "metadata": {},
   "source": [
    "# Selinium\n",
    "- follow the guide from textbook to install chromedriver\n",
    "- https://sites.google.com/a/chromium.org/chromedriver/downloads"
   ]
  },
  {
   "cell_type": "code",
   "execution_count": null,
   "metadata": {},
   "outputs": [],
   "source": [
    "from selenium import webdriver\n",
    "browser = webdriver.Chrome()\n",
    "browser.get('https://learn.inha.ac.kr/')"
   ]
  },
  {
   "cell_type": "code",
   "execution_count": null,
   "metadata": {},
   "outputs": [],
   "source": [
    "type(browser)"
   ]
  },
  {
   "cell_type": "code",
   "execution_count": null,
   "metadata": {},
   "outputs": [],
   "source": [
    "user_name_elem = browser.find_element('id','input-username')\n",
    "user_name_elem.send_keys('jumabek')"
   ]
  },
  {
   "cell_type": "code",
   "execution_count": null,
   "metadata": {},
   "outputs": [],
   "source": [
    "password_elem = browser.find_element('id','input-password')\n",
    "password_elem.send_keys('not_my_password')"
   ]
  },
  {
   "cell_type": "code",
   "execution_count": null,
   "metadata": {},
   "outputs": [],
   "source": []
  },
  {
   "cell_type": "markdown",
   "metadata": {},
   "source": []
  },
  {
   "cell_type": "markdown",
   "metadata": {},
   "source": []
  }
 ],
 "metadata": {
  "kernelspec": {
   "display_name": "Python 3",
   "language": "python",
   "name": "python3"
  },
  "language_info": {
   "codemirror_mode": {
    "name": "ipython",
    "version": 3
   },
   "file_extension": ".py",
   "mimetype": "text/x-python",
   "name": "python",
   "nbconvert_exporter": "python",
   "pygments_lexer": "ipython3",
   "version": "3.10.6"
  },
  "orig_nbformat": 4,
  "vscode": {
   "interpreter": {
    "hash": "916dbcbb3f70747c44a77c7bcd40155683ae19c65e1c03b4aa3499c5328201f1"
   }
  }
 },
 "nbformat": 4,
 "nbformat_minor": 2
}
