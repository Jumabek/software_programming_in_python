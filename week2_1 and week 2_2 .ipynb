version https://git-lfs.github.com/spec/v1
oid sha256:4a9b8f42c8246f0a658035b22e7dc48bbab28dc2386519d675bcc9bf445ec85e
size 24360
