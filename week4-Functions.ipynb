{
 "cells": [
  {
   "cell_type": "code",
   "execution_count": 1,
   "metadata": {},
   "outputs": [],
   "source": []
  },
  {
   "cell_type": "markdown",
   "metadata": {},
   "source": [
    "# Computer is slave\n",
    "- black boxes\n",
    "\n",
    "- take input/command: programming (python gives intructions in a language computer can understand)\n",
    "- ccomputation (computer)\n",
    "- return the result\n"
   ]
  },
  {
   "cell_type": "markdown",
   "metadata": {},
   "source": [
    "# Week 4_1 - Chapter 3: Functions https://automatetheboringstuff.com/2e/chapter3/\n",
    "- functions are miniprograms within a program\n",
    "- examples\n",
    "    - built-in functions\n",
    "        - print()\n",
    "        - input()\n",
    "        - len()\n",
    "    - functions written by other people\n",
    "        - random.randint()\n",
    "    - function that we wrote\n",
    "        - hello()"
   ]
  },
  {
   "cell_type": "code",
   "execution_count": 4,
   "metadata": {},
   "outputs": [
    {
     "data": {
      "text/plain": [
       "7"
      ]
     },
     "execution_count": 4,
     "metadata": {},
     "output_type": "execute_result"
    }
   ],
   "source": [
    "len(\"message\") # functions are called using parenthesis"
   ]
  },
  {
   "cell_type": "code",
   "execution_count": 19,
   "metadata": {},
   "outputs": [],
   "source": [
    "def hello():\n",
    "    # --body of the function follows--\n",
    "    print('Howdy!')\n",
    "    print('Howdy!!!')\n",
    "    print('Hello there.')\n",
    "    # --body ends here--\n",
    "\n"
   ]
  },
  {
   "cell_type": "code",
   "execution_count": 22,
   "metadata": {},
   "outputs": [
    {
     "name": "stdout",
     "output_type": "stream",
     "text": [
      "Howdy!\n",
      "Howdy!!!\n",
      "Hello there.\n",
      "------------seperation----------\n",
      "Howdy!\n",
      "Howdy!!!\n",
      "Hello there.\n"
     ]
    }
   ],
   "source": [
    "hello()\n",
    "print(\"------------seperation----------\")\n",
    "hello()"
   ]
  },
  {
   "cell_type": "code",
   "execution_count": 26,
   "metadata": {},
   "outputs": [
    {
     "name": "stdout",
     "output_type": "stream",
     "text": [
      "Howdy!\n",
      "Howdy!!!\n",
      "Hello there.\n",
      "None\n"
     ]
    }
   ],
   "source": [
    "res = hello()\n",
    "print(res)"
   ]
  },
  {
   "cell_type": "code",
   "execution_count": 2,
   "metadata": {},
   "outputs": [],
   "source": [
    "# functionsd are mini program\n",
    "# takes input, performs computationb, and returns result\n",
    "def calculate_yearly_salary_new(monthly_salary):\n",
    "    yeary_salary = monthly_salary*12\n",
    "    return yeary_salary\n"
   ]
  },
  {
   "cell_type": "code",
   "execution_count": 3,
   "metadata": {},
   "outputs": [
    {
     "name": "stdout",
     "output_type": "stream",
     "text": [
      "res 120\n"
     ]
    }
   ],
   "source": [
    "res = calculate_yearly_salary_new(10)\n",
    "print(\"res\",res)"
   ]
  },
  {
   "cell_type": "code",
   "execution_count": 6,
   "metadata": {},
   "outputs": [
    {
     "name": "stdout",
     "output_type": "stream",
     "text": [
      "Howdy!\n",
      "Howdy!!!\n",
      "Hello there.\n"
     ]
    }
   ],
   "source": [
    "hello()\n",
    "hello()\n",
    "hello()\n"
   ]
  },
  {
   "cell_type": "code",
   "execution_count": 7,
   "metadata": {},
   "outputs": [
    {
     "name": "stdout",
     "output_type": "stream",
     "text": [
      "Howdy!\n",
      "Howdy!!!\n",
      "Hello there.\n"
     ]
    }
   ],
   "source": [
    "hello()"
   ]
  },
  {
   "cell_type": "markdown",
   "metadata": {},
   "source": [
    "link for visualization of above program\n",
    "\n",
    "https://autbor.com/hellofunc/"
   ]
  },
  {
   "cell_type": "code",
   "execution_count": null,
   "metadata": {},
   "outputs": [],
   "source": []
  },
  {
   "cell_type": "markdown",
   "metadata": {},
   "source": [
    "## Define, Call, Pass, Argument, Parameter\n",
    "- define make the function\n",
    "- arguments in function call\n",
    "    - what we pass to the function is called arguments\n",
    "    - arguments are typed between paranthesis. E: print('message')\n"
   ]
  },
  {
   "cell_type": "code",
   "execution_count": 31,
   "metadata": {},
   "outputs": [],
   "source": [
    "def hello(frequency): # frequency is the parameter of the function\n",
    "    print(\"freqeuncy is\",frequency)\n",
    "    # --body of the function follows--\n",
    "    if frequency ==1:\n",
    "        print(\"hello\")\n",
    "    else: \n",
    "        print('Howdy!')\n",
    "        print('Howdy!!!')\n",
    "        print('Hello there.')\n",
    "    # --body ends here--\n",
    "\n"
   ]
  },
  {
   "cell_type": "code",
   "execution_count": 32,
   "metadata": {},
   "outputs": [
    {
     "name": "stdout",
     "output_type": "stream",
     "text": [
      "freqeuncy is 1\n",
      "hello\n"
     ]
    }
   ],
   "source": [
    "hello(1)# 1 is an argument of the function"
   ]
  },
  {
   "cell_type": "code",
   "execution_count": 33,
   "metadata": {},
   "outputs": [
    {
     "name": "stdout",
     "output_type": "stream",
     "text": [
      "freqeuncy is 2\n",
      "Howdy!\n",
      "Howdy!!!\n",
      "Hello there.\n"
     ]
    }
   ],
   "source": [
    "hello(2)# name and (), insdie the scope is the call arguments"
   ]
  },
  {
   "cell_type": "code",
   "execution_count": null,
   "metadata": {},
   "outputs": [],
   "source": []
  },
  {
   "cell_type": "code",
   "execution_count": null,
   "metadata": {},
   "outputs": [],
   "source": []
  },
  {
   "cell_type": "code",
   "execution_count": 16,
   "metadata": {},
   "outputs": [
    {
     "name": "stdout",
     "output_type": "stream",
     "text": [
      "Hello, Inha\n",
      "lenth of your name is  4\n"
     ]
    }
   ],
   "source": [
    "def sayHello(name):\n",
    "       print('Hello, ' + name)\n",
    "       print(\"lenth of your name is \", len(name))\n",
    "       semester = '2022-2'\n",
    "       return 'THis is ' + semester \n",
    "\n",
    "userinput = input() # anything that is contains a value is variable (userinput)\n",
    "\n",
    "\n",
    "result = sayHello(userinput) # varioable user input  is an argument of sayHello function"
   ]
  },
  {
   "cell_type": "code",
   "execution_count": 17,
   "metadata": {},
   "outputs": [
    {
     "data": {
      "text/plain": [
       "'THis is2022-2'"
      ]
     },
     "execution_count": 17,
     "metadata": {},
     "output_type": "execute_result"
    }
   ],
   "source": [
    "result"
   ]
  },
  {
   "cell_type": "code",
   "execution_count": null,
   "metadata": {},
   "outputs": [],
   "source": []
  },
  {
   "cell_type": "markdown",
   "metadata": {},
   "source": [
    "- function parameters \n",
    "    - parameters are variables that contain arguments\n"
   ]
  },
  {
   "cell_type": "code",
   "execution_count": null,
   "metadata": {},
   "outputs": [],
   "source": [
    "def sayHello(name): # name is a function  param \n",
    "       print('Hello, ' + name)\n",
    "    \n"
   ]
  },
  {
   "cell_type": "code",
   "execution_count": null,
   "metadata": {},
   "outputs": [],
   "source": []
  },
  {
   "cell_type": "markdown",
   "metadata": {},
   "source": [
    "\n"
   ]
  },
  {
   "cell_type": "markdown",
   "metadata": {},
   "source": [
    "### def\n",
    "- defining a function is to create it. \n",
    "- below def statement creates sayHello() function"
   ]
  },
  {
   "cell_type": "code",
   "execution_count": 18,
   "metadata": {},
   "outputs": [
    {
     "name": "stdout",
     "output_type": "stream",
     "text": [
      "Hello, Al\n"
     ]
    }
   ],
   "source": [
    "def sayHello(name):\n",
    "       print('Hello, ' + name)\n",
    "sayHello('Al')"
   ]
  },
  {
   "cell_type": "markdown",
   "metadata": {},
   "source": [
    "## Return Values and return Statements\n"
   ]
  },
  {
   "cell_type": "code",
   "execution_count": 4,
   "metadata": {},
   "outputs": [
    {
     "data": {
      "text/plain": [
       "2"
      ]
     },
     "execution_count": 4,
     "metadata": {},
     "output_type": "execute_result"
    }
   ],
   "source": [
    "len('hi') # returns integer value"
   ]
  },
  {
   "cell_type": "code",
   "execution_count": 28,
   "metadata": {},
   "outputs": [],
   "source": [
    "import random\n",
    "\n",
    "def getAnswer(answerNumber): # function param is answerNumber\n",
    "       if answerNumber == 1:\n",
    "           return 'It is certain' # function execution ends here if answerNumber is 1\n",
    "       elif answerNumber == 2:\n",
    "           return 'It is decidedly so'\n",
    "       elif answerNumber == 3:\n",
    "           return 'Yes'\n",
    "       elif answerNumber == 4:\n",
    "           return 'Reply hazy try again'\n",
    "       elif answerNumber == 5:\n",
    "           return 'Ask again later'\n",
    "       elif answerNumber == 6:\n",
    "           return 'Concentrate and ask again'\n",
    "       elif answerNumber == 7:\n",
    "           return 'My reply is no'\n",
    "       elif answerNumber == 8:\n",
    "           return 'Outlook not so good'\n",
    "       elif answerNumber == 9:\n",
    "           return 'Very doubtful'\n",
    "       else:\n",
    "            return \"mor than 10\""
   ]
  },
  {
   "cell_type": "code",
   "execution_count": 29,
   "metadata": {},
   "outputs": [
    {
     "name": "stdout",
     "output_type": "stream",
     "text": [
      "results thast is returned is mor than 10\n"
     ]
    }
   ],
   "source": [
    "res = getAnswer(10)\n",
    "print(\"results thast is returned is\", res)"
   ]
  },
  {
   "cell_type": "code",
   "execution_count": 16,
   "metadata": {},
   "outputs": [
    {
     "data": {
      "text/plain": [
       "593"
      ]
     },
     "execution_count": 16,
     "metadata": {},
     "output_type": "execute_result"
    }
   ],
   "source": [
    "# funcgional body of randint \n",
    "random.randint(5, 1000) # [begin, end]"
   ]
  },
  {
   "cell_type": "code",
   "execution_count": 6,
   "metadata": {},
   "outputs": [
    {
     "data": {
      "text/plain": [
       "1"
      ]
     },
     "execution_count": 6,
     "metadata": {},
     "output_type": "execute_result"
    }
   ],
   "source": [
    "r = random.randint(1, 9) # get random number \n",
    "r"
   ]
  },
  {
   "cell_type": "code",
   "execution_count": 7,
   "metadata": {},
   "outputs": [
    {
     "name": "stdout",
     "output_type": "stream",
     "text": [
      "It is certain\n"
     ]
    }
   ],
   "source": [
    "fortune = getAnswer(r)\n",
    "print(fortune)\n"
   ]
  },
  {
   "cell_type": "code",
   "execution_count": null,
   "metadata": {},
   "outputs": [],
   "source": []
  },
  {
   "cell_type": "code",
   "execution_count": 8,
   "metadata": {},
   "outputs": [
    {
     "data": {
      "text/plain": [
       "str"
      ]
     },
     "execution_count": 8,
     "metadata": {},
     "output_type": "execute_result"
    }
   ],
   "source": [
    "type(fortune)"
   ]
  },
  {
   "cell_type": "code",
   "execution_count": 9,
   "metadata": {},
   "outputs": [],
   "source": [
    "def mylen(message):\n",
    "    n = len(message)\n",
    "    return n\n"
   ]
  },
  {
   "cell_type": "code",
   "execution_count": 12,
   "metadata": {},
   "outputs": [],
   "source": [
    "res = mylen('INha')"
   ]
  },
  {
   "cell_type": "code",
   "execution_count": 13,
   "metadata": {},
   "outputs": [],
   "source": [
    "def get_square(i):\n",
    "    return i*i\n",
    "\n"
   ]
  },
  {
   "cell_type": "code",
   "execution_count": 14,
   "metadata": {},
   "outputs": [
    {
     "data": {
      "text/plain": [
       "16"
      ]
     },
     "execution_count": 14,
     "metadata": {},
     "output_type": "execute_result"
    }
   ],
   "source": [
    "get_square(res)"
   ]
  },
  {
   "cell_type": "code",
   "execution_count": null,
   "metadata": {},
   "outputs": [],
   "source": []
  },
  {
   "cell_type": "code",
   "execution_count": null,
   "metadata": {},
   "outputs": [],
   "source": []
  },
  {
   "cell_type": "markdown",
   "metadata": {},
   "source": [
    "## The None Value\n",
    "- absence of a value\n",
    "- whenver function does not return a value, then by default NOne is returned"
   ]
  },
  {
   "cell_type": "code",
   "execution_count": 25,
   "metadata": {},
   "outputs": [],
   "source": [
    "def sayHello(name):\n",
    "       print('Hello, ' + name)\n",
    "       return 1"
   ]
  },
  {
   "cell_type": "code",
   "execution_count": 27,
   "metadata": {},
   "outputs": [
    {
     "name": "stdout",
     "output_type": "stream",
     "text": [
      "Hello, University\n",
      "resultOfSayHello is 1\n"
     ]
    }
   ],
   "source": [
    "anyValidVariableName = sayHello(\"University\")\n",
    "print(\"resultOfSayHello is\", anyValidVariableName)"
   ]
  },
  {
   "cell_type": "code",
   "execution_count": 33,
   "metadata": {},
   "outputs": [
    {
     "name": "stdout",
     "output_type": "stream",
     "text": [
      "1\n"
     ]
    }
   ],
   "source": [
    "print(resultOfSayHello)"
   ]
  },
  {
   "cell_type": "code",
   "execution_count": 24,
   "metadata": {},
   "outputs": [
    {
     "ename": "TypeError",
     "evalue": "unsupported operand type(s) for +: 'NoneType' and 'NoneType'",
     "output_type": "error",
     "traceback": [
      "\u001b[1;31m---------------------------------------------------------------------------\u001b[0m",
      "\u001b[1;31mTypeError\u001b[0m                                 Traceback (most recent call last)",
      "\u001b[1;32mc:\\Users\\SAMSUNG\\Downloads\\software_programming_in_python-main\\software_programming_in_python-main\\week4-Functions.ipynb 셀 48\u001b[0m in \u001b[0;36m<cell line: 1>\u001b[1;34m()\u001b[0m\n\u001b[1;32m----> <a href='vscode-notebook-cell:/c%3A/Users/SAMSUNG/Downloads/software_programming_in_python-main/software_programming_in_python-main/week4-Functions.ipynb#X46sZmlsZQ%3D%3D?line=0'>1</a>\u001b[0m \u001b[39mNone\u001b[39;49;00m\u001b[39m+\u001b[39;49m\u001b[39mNone\u001b[39;49;00m\n",
      "\u001b[1;31mTypeError\u001b[0m: unsupported operand type(s) for +: 'NoneType' and 'NoneType'"
     ]
    }
   ],
   "source": [
    "None+None"
   ]
  },
  {
   "cell_type": "code",
   "execution_count": null,
   "metadata": {},
   "outputs": [],
   "source": []
  },
  {
   "cell_type": "code",
   "execution_count": 37,
   "metadata": {},
   "outputs": [
    {
     "name": "stdout",
     "output_type": "stream",
     "text": [
      "Hello, Jumabek\n"
     ]
    },
    {
     "data": {
      "text/plain": [
       "1"
      ]
     },
     "execution_count": 37,
     "metadata": {},
     "output_type": "execute_result"
    }
   ],
   "source": [
    "sayHello(\"Jumabek\")"
   ]
  },
  {
   "cell_type": "markdown",
   "metadata": {},
   "source": [
    "## Keyword Arguments and the print() Function\n",
    "- keyword argument should map to function params"
   ]
  },
  {
   "cell_type": "code",
   "execution_count": 31,
   "metadata": {},
   "outputs": [
    {
     "name": "stdout",
     "output_type": "stream",
     "text": [
      "this *is*pritn*message.\n"
     ]
    }
   ],
   "source": [
    "print(\"this \", \"is\",\"pritn\", \"message.\",sep=\"*\")"
   ]
  },
  {
   "cell_type": "code",
   "execution_count": null,
   "metadata": {},
   "outputs": [],
   "source": []
  },
  {
   "cell_type": "code",
   "execution_count": null,
   "metadata": {},
   "outputs": [],
   "source": []
  },
  {
   "cell_type": "code",
   "execution_count": 46,
   "metadata": {},
   "outputs": [
    {
     "name": "stdout",
     "output_type": "stream",
     "text": [
      "this  is pritn message.This is second messge\n",
      "thirdfourth"
     ]
    }
   ],
   "source": [
    "print(\"this \", \"is\",\"pritn\", \"message.\", end=\"\" )\n",
    "print(\"This is second messge\", end=\"\\n\")\n",
    "print(\"third\", end=\"\")\n",
    "print(\"fourth\", end=\"\")"
   ]
  },
  {
   "cell_type": "code",
   "execution_count": 47,
   "metadata": {},
   "outputs": [
    {
     "name": "stdout",
     "output_type": "stream",
     "text": [
      "FIrst link \n",
      " Second Line \n"
     ]
    }
   ],
   "source": [
    "# \\n is end of the line character\n",
    "print(\"FIrst link \\n Second Line \")"
   ]
  },
  {
   "cell_type": "code",
   "execution_count": 51,
   "metadata": {},
   "outputs": [
    {
     "name": "stdout",
     "output_type": "stream",
     "text": [
      "\n",
      "line one\n",
      "line two\n",
      "\n"
     ]
    }
   ],
   "source": [
    "print('''\n",
    "line one\\nline two\n",
    "''')"
   ]
  },
  {
   "cell_type": "code",
   "execution_count": 39,
   "metadata": {},
   "outputs": [
    {
     "name": "stdout",
     "output_type": "stream",
     "text": [
      "Jumabke***ALikhanov\n"
     ]
    }
   ],
   "source": [
    "print(\"Jumabke\", \"ALikhanov\", separate=\"***\")"
   ]
  },
  {
   "cell_type": "code",
   "execution_count": 36,
   "metadata": {},
   "outputs": [],
   "source": [
    "def sayHelloAdvancedNew(name, his_age):\n",
    "    print(\"Welcome\", name)\n",
    "    print(\"you are \",his_age, 'old')\n",
    "\n"
   ]
  },
  {
   "cell_type": "code",
   "execution_count": 38,
   "metadata": {},
   "outputs": [
    {
     "name": "stdout",
     "output_type": "stream",
     "text": [
      "Welcome Javokhir\n",
      "you are  20 old\n"
     ]
    }
   ],
   "source": [
    "sayHelloAdvancedNew(name=\"Javokhir\", his_age=20)"
   ]
  },
  {
   "cell_type": "markdown",
   "metadata": {},
   "source": [
    "## The Call Stack\n"
   ]
  },
  {
   "cell_type": "markdown",
   "metadata": {},
   "source": []
  },
  {
   "cell_type": "code",
   "execution_count": 43,
   "metadata": {},
   "outputs": [],
   "source": [
    "def hello():\n",
    "    # --body of the function follows--\n",
    "    print(\"input your name\")\n",
    "    name = input()\n",
    "    print(\"Hello\", name)\n",
    "    # print('Howdy!')\n",
    "    # print('Howdy!!!')\n",
    "    # print('Hello there.')\n",
    "    # --body ends here--\n",
    "\n",
    "def print_congratz():\n",
    "    print(\"COngratulation\")"
   ]
  },
  {
   "cell_type": "code",
   "execution_count": 44,
   "metadata": {},
   "outputs": [
    {
     "name": "stdout",
     "output_type": "stream",
     "text": [
      "input your name\n",
      "Hello Asadbek\n",
      "function call has finished\n",
      "input your name\n",
      "Hello Software\n"
     ]
    }
   ],
   "source": [
    "hello() #  compiuter remembers from where did you call the function\n",
    "# at the end of the function executions, goes back to the place you called the function\n",
    "\n",
    "print(\"function call has finished\")\n",
    "\n",
    "hello()\n"
   ]
  },
  {
   "cell_type": "code",
   "execution_count": 42,
   "metadata": {},
   "outputs": [
    {
     "name": "stdout",
     "output_type": "stream",
     "text": [
      "Howdy!\n",
      "Howdy!!!\n",
      "Hello there.\n",
      "function call has finished\n",
      "COngratulation\n"
     ]
    }
   ],
   "source": [
    "hello() #  compiuter remembers from where did you call the function\n",
    "# at the end of the function executions, goes back to the place you called the function\n",
    "\n",
    "print(\"function call has finished\")\n",
    "\n",
    "print_congratz()"
   ]
  },
  {
   "cell_type": "markdown",
   "metadata": {},
   "source": [
    "# week 4_2 - functions"
   ]
  },
  {
   "cell_type": "code",
   "execution_count": null,
   "metadata": {},
   "outputs": [],
   "source": []
  },
  {
   "cell_type": "markdown",
   "metadata": {},
   "source": [
    "## Q from Samandar\n",
    "why \"bag\"==\"apple\" is True?"
   ]
  },
  {
   "cell_type": "code",
   "execution_count": 46,
   "metadata": {},
   "outputs": [
    {
     "data": {
      "text/plain": [
       "False"
      ]
     },
     "execution_count": 46,
     "metadata": {},
     "output_type": "execute_result"
    }
   ],
   "source": [
    "3>4 # True "
   ]
  },
  {
   "cell_type": "code",
   "execution_count": 70,
   "metadata": {},
   "outputs": [
    {
     "data": {
      "text/plain": [
       "98"
      ]
     },
     "execution_count": 70,
     "metadata": {},
     "output_type": "execute_result"
    }
   ],
   "source": [
    "ord('b')"
   ]
  },
  {
   "cell_type": "code",
   "execution_count": 71,
   "metadata": {},
   "outputs": [
    {
     "data": {
      "text/plain": [
       "97"
      ]
     },
     "execution_count": 71,
     "metadata": {},
     "output_type": "execute_result"
    }
   ],
   "source": [
    "ord('a')"
   ]
  },
  {
   "cell_type": "markdown",
   "metadata": {},
   "source": [
    "##  Local and Global Scope\n",
    "- local variable is visible only inside the local scope"
   ]
  },
  {
   "cell_type": "code",
   "execution_count": 51,
   "metadata": {},
   "outputs": [],
   "source": [
    "eggs = 12 # anythin outside the function is global\n",
    "def spam():\n",
    "    eggs = 13\n",
    "    print(eggs)\n"
   ]
  },
  {
   "cell_type": "code",
   "execution_count": 52,
   "metadata": {},
   "outputs": [
    {
     "name": "stdout",
     "output_type": "stream",
     "text": [
      "13\n"
     ]
    }
   ],
   "source": [
    "spam()"
   ]
  },
  {
   "cell_type": "code",
   "execution_count": 79,
   "metadata": {},
   "outputs": [
    {
     "name": "stdout",
     "output_type": "stream",
     "text": [
      "13\n"
     ]
    }
   ],
   "source": [
    "spam()\n"
   ]
  },
  {
   "cell_type": "code",
   "execution_count": 76,
   "metadata": {},
   "outputs": [
    {
     "ename": "NameError",
     "evalue": "name 'breads' is not defined",
     "output_type": "error",
     "traceback": [
      "\u001b[1;31m---------------------------------------------------------------------------\u001b[0m",
      "\u001b[1;31mNameError\u001b[0m                                 Traceback (most recent call last)",
      "\u001b[1;32mc:\\Users\\SAMSUNG\\Downloads\\software_programming_in_python-main\\software_programming_in_python-main\\week4_1.ipynb 셀 51\u001b[0m in \u001b[0;36m<cell line: 1>\u001b[1;34m()\u001b[0m\n\u001b[1;32m----> <a href='vscode-notebook-cell:/c%3A/Users/SAMSUNG/Downloads/software_programming_in_python-main/software_programming_in_python-main/week4_1.ipynb#Y145sZmlsZQ%3D%3D?line=0'>1</a>\u001b[0m breads\n",
      "\u001b[1;31mNameError\u001b[0m: name 'breads' is not defined"
     ]
    }
   ],
   "source": [
    "breads"
   ]
  },
  {
   "cell_type": "markdown",
   "metadata": {},
   "source": [
    "## Local Scopes Cannot Use Variables in Other Local Scopes\n"
   ]
  },
  {
   "cell_type": "code",
   "execution_count": 4,
   "metadata": {},
   "outputs": [],
   "source": [
    "def sayHello(name):\n",
    "    age = 20\n",
    "    print(\"hello\", name)\n",
    "\n"
   ]
  },
  {
   "cell_type": "markdown",
   "metadata": {},
   "source": [
    "## Local Variables Cannot Be Used in the Global Scope"
   ]
  },
  {
   "cell_type": "code",
   "execution_count": 5,
   "metadata": {},
   "outputs": [],
   "source": [
    "def test_scope(): # computer just test_scope function\n",
    "    print(\"age\",age)"
   ]
  },
  {
   "cell_type": "code",
   "execution_count": 6,
   "metadata": {},
   "outputs": [
    {
     "ename": "NameError",
     "evalue": "name 'age' is not defined",
     "output_type": "error",
     "traceback": [
      "\u001b[1;31m---------------------------------------------------------------------------\u001b[0m",
      "\u001b[1;31mNameError\u001b[0m                                 Traceback (most recent call last)",
      "\u001b[1;32mc:\\Users\\SAMSUNG\\Downloads\\software_programming_in_python-main\\software_programming_in_python-main\\week4-Functions.ipynb 셀 60\u001b[0m in \u001b[0;36m<cell line: 1>\u001b[1;34m()\u001b[0m\n\u001b[1;32m----> <a href='vscode-notebook-cell:/c%3A/Users/SAMSUNG/Downloads/software_programming_in_python-main/software_programming_in_python-main/week4-Functions.ipynb#Y156sZmlsZQ%3D%3D?line=0'>1</a>\u001b[0m test_scope()\n",
      "\u001b[1;32mc:\\Users\\SAMSUNG\\Downloads\\software_programming_in_python-main\\software_programming_in_python-main\\week4-Functions.ipynb 셀 60\u001b[0m in \u001b[0;36mtest_scope\u001b[1;34m()\u001b[0m\n\u001b[0;32m      <a href='vscode-notebook-cell:/c%3A/Users/SAMSUNG/Downloads/software_programming_in_python-main/software_programming_in_python-main/week4-Functions.ipynb#Y156sZmlsZQ%3D%3D?line=0'>1</a>\u001b[0m \u001b[39mdef\u001b[39;00m \u001b[39mtest_scope\u001b[39m():\n\u001b[1;32m----> <a href='vscode-notebook-cell:/c%3A/Users/SAMSUNG/Downloads/software_programming_in_python-main/software_programming_in_python-main/week4-Functions.ipynb#Y156sZmlsZQ%3D%3D?line=1'>2</a>\u001b[0m     \u001b[39mprint\u001b[39m(\u001b[39m\"\u001b[39m\u001b[39mage\u001b[39m\u001b[39m\"\u001b[39m,age)\n",
      "\u001b[1;31mNameError\u001b[0m: name 'age' is not defined"
     ]
    }
   ],
   "source": [
    "test_scope()"
   ]
  },
  {
   "cell_type": "code",
   "execution_count": 7,
   "metadata": {},
   "outputs": [
    {
     "name": "stdout",
     "output_type": "stream",
     "text": [
      "age\n"
     ]
    }
   ],
   "source": [
    "def test_scope(): # computer just test_scope function\n",
    "    print(\"age\")\n",
    "test_scope()"
   ]
  },
  {
   "cell_type": "code",
   "execution_count": 2,
   "metadata": {},
   "outputs": [
    {
     "ename": "NameError",
     "evalue": "name 'age' is not defined",
     "output_type": "error",
     "traceback": [
      "\u001b[1;31m---------------------------------------------------------------------------\u001b[0m",
      "\u001b[1;31mNameError\u001b[0m                                 Traceback (most recent call last)",
      "\u001b[1;32mc:\\Users\\SAMSUNG\\Downloads\\software_programming_in_python-main\\software_programming_in_python-main\\week4-Functions.ipynb 셀 59\u001b[0m in \u001b[0;36m<cell line: 1>\u001b[1;34m()\u001b[0m\n\u001b[1;32m----> <a href='vscode-notebook-cell:/c%3A/Users/SAMSUNG/Downloads/software_programming_in_python-main/software_programming_in_python-main/week4-Functions.ipynb#Y112sZmlsZQ%3D%3D?line=0'>1</a>\u001b[0m age\n",
      "\u001b[1;31mNameError\u001b[0m: name 'age' is not defined"
     ]
    }
   ],
   "source": [
    "age # local scope\n",
    "# age is not global\n"
   ]
  },
  {
   "cell_type": "code",
   "execution_count": null,
   "metadata": {},
   "outputs": [],
   "source": []
  },
  {
   "cell_type": "code",
   "execution_count": null,
   "metadata": {},
   "outputs": [],
   "source": []
  },
  {
   "cell_type": "markdown",
   "metadata": {},
   "source": [
    "## Global Variables Can Be Read from a Local Scope\n"
   ]
  },
  {
   "cell_type": "code",
   "execution_count": 56,
   "metadata": {},
   "outputs": [],
   "source": [
    "eggs = 12 # anythin outside the function is global\n",
    "def spam():\n",
    "    global eggs # function of global is to tell spam() function, I am using eggs as global variable\n",
    "    eggs = 20 # this not a local variable\n",
    "    print(eggs)\n"
   ]
  },
  {
   "cell_type": "code",
   "execution_count": 57,
   "metadata": {},
   "outputs": [
    {
     "name": "stdout",
     "output_type": "stream",
     "text": [
      "20\n"
     ]
    }
   ],
   "source": [
    "spam()"
   ]
  },
  {
   "cell_type": "code",
   "execution_count": 58,
   "metadata": {},
   "outputs": [
    {
     "data": {
      "text/plain": [
       "12"
      ]
     },
     "execution_count": 58,
     "metadata": {},
     "output_type": "execute_result"
    }
   ],
   "source": [
    "eggs"
   ]
  },
  {
   "cell_type": "code",
   "execution_count": 62,
   "metadata": {},
   "outputs": [],
   "source": [
    "eggs = 12 # anythin outside the function is global\n",
    "def change_the_value_of_eggs_20():\n",
    "    global eggs\n",
    "    eggs = 20 # new eggs varioble is create in locval scope\n",
    "    \n",
    "    print(eggs)\n"
   ]
  },
  {
   "cell_type": "code",
   "execution_count": 63,
   "metadata": {},
   "outputs": [
    {
     "name": "stdout",
     "output_type": "stream",
     "text": [
      "20\n"
     ]
    }
   ],
   "source": [
    "change_the_value_of_eggs_20()"
   ]
  },
  {
   "cell_type": "code",
   "execution_count": 64,
   "metadata": {},
   "outputs": [
    {
     "data": {
      "text/plain": [
       "20"
      ]
     },
     "execution_count": 64,
     "metadata": {},
     "output_type": "execute_result"
    }
   ],
   "source": [
    "eggs"
   ]
  },
  {
   "cell_type": "code",
   "execution_count": 65,
   "metadata": {},
   "outputs": [],
   "source": [
    "# just access the global variable inside the function\n",
    "eggs = 12 # anythin outside the function is global\n",
    "def spam():\n",
    "    global eggs # function of global is to tell spam() function, I am using eggs as global variable\n",
    "    print(eggs)\n"
   ]
  },
  {
   "cell_type": "code",
   "execution_count": 66,
   "metadata": {},
   "outputs": [
    {
     "name": "stdout",
     "output_type": "stream",
     "text": [
      "12\n"
     ]
    }
   ],
   "source": [
    "spam()"
   ]
  },
  {
   "cell_type": "markdown",
   "metadata": {},
   "source": [
    "# Local and Global Variables with the Same Name\n",
    "- local takes precedance"
   ]
  },
  {
   "cell_type": "code",
   "execution_count": null,
   "metadata": {},
   "outputs": [],
   "source": []
  },
  {
   "cell_type": "markdown",
   "metadata": {},
   "source": [
    "# Note: dont use globals if you can"
   ]
  },
  {
   "cell_type": "code",
   "execution_count": null,
   "metadata": {},
   "outputs": [],
   "source": []
  },
  {
   "cell_type": "code",
   "execution_count": null,
   "metadata": {},
   "outputs": [],
   "source": []
  },
  {
   "cell_type": "code",
   "execution_count": null,
   "metadata": {},
   "outputs": [],
   "source": []
  },
  {
   "cell_type": "code",
   "execution_count": null,
   "metadata": {},
   "outputs": [],
   "source": []
  },
  {
   "cell_type": "code",
   "execution_count": null,
   "metadata": {},
   "outputs": [],
   "source": []
  },
  {
   "cell_type": "markdown",
   "metadata": {},
   "source": [
    "## Exception Handling\n"
   ]
  },
  {
   "cell_type": "code",
   "execution_count": 73,
   "metadata": {},
   "outputs": [
    {
     "name": "stdout",
     "output_type": "stream",
     "text": [
      "21.0\n",
      "3.5\n",
      "Excepping \n",
      "42.0\n"
     ]
    }
   ],
   "source": [
    "def spam(divideBy):\n",
    "    return 42 / divideBy\n",
    "\n",
    "print(spam(2))\n",
    "\n",
    "print(spam(12))\n",
    "\n",
    "try:\n",
    "    print(spam(0)) # because of this error we did not have chance to execute next line\n",
    "except Exception as e:\n",
    "    print(\"Excepping \")\n",
    "    \n",
    "print(spam(1)) # line had chance to execute thasnks to try/except"
   ]
  },
  {
   "cell_type": "code",
   "execution_count": 77,
   "metadata": {},
   "outputs": [
    {
     "name": "stdout",
     "output_type": "stream",
     "text": [
      "enter your age\n",
      "You entered wrong type, pls enter integer\n"
     ]
    },
    {
     "ename": "ValueError",
     "evalue": "invalid literal for int() with base 10: ''",
     "output_type": "error",
     "traceback": [
      "\u001b[1;31m---------------------------------------------------------------------------\u001b[0m",
      "\u001b[1;31mValueError\u001b[0m                                Traceback (most recent call last)",
      "\u001b[1;32mc:\\Users\\SAMSUNG\\Downloads\\software_programming_in_python-main\\software_programming_in_python-main\\week4-Functions.ipynb 셀 105\u001b[0m in \u001b[0;36m<cell line: 2>\u001b[1;34m()\u001b[0m\n\u001b[0;32m      <a href='vscode-notebook-cell:/c%3A/Users/SAMSUNG/Downloads/software_programming_in_python-main/software_programming_in_python-main/week4-Functions.ipynb#Y234sZmlsZQ%3D%3D?line=2'>3</a>\u001b[0m     string_age \u001b[39m=\u001b[39m \u001b[39minput\u001b[39m()\n\u001b[1;32m----> <a href='vscode-notebook-cell:/c%3A/Users/SAMSUNG/Downloads/software_programming_in_python-main/software_programming_in_python-main/week4-Functions.ipynb#Y234sZmlsZQ%3D%3D?line=3'>4</a>\u001b[0m     my_age \u001b[39m=\u001b[39m \u001b[39mint\u001b[39;49m(string_age)\n\u001b[0;32m      <a href='vscode-notebook-cell:/c%3A/Users/SAMSUNG/Downloads/software_programming_in_python-main/software_programming_in_python-main/week4-Functions.ipynb#Y234sZmlsZQ%3D%3D?line=4'>5</a>\u001b[0m \u001b[39mexcept\u001b[39;00m \u001b[39mException\u001b[39;00m \u001b[39mas\u001b[39;00m e:\n",
      "\u001b[1;31mValueError\u001b[0m: invalid literal for int() with base 10: 'twenthy'",
      "\nDuring handling of the above exception, another exception occurred:\n",
      "\u001b[1;31mValueError\u001b[0m                                Traceback (most recent call last)",
      "\u001b[1;32mc:\\Users\\SAMSUNG\\Downloads\\software_programming_in_python-main\\software_programming_in_python-main\\week4-Functions.ipynb 셀 105\u001b[0m in \u001b[0;36m<cell line: 2>\u001b[1;34m()\u001b[0m\n\u001b[0;32m      <a href='vscode-notebook-cell:/c%3A/Users/SAMSUNG/Downloads/software_programming_in_python-main/software_programming_in_python-main/week4-Functions.ipynb#Y234sZmlsZQ%3D%3D?line=5'>6</a>\u001b[0m     \u001b[39mprint\u001b[39m(\u001b[39m\"\u001b[39m\u001b[39mYou entered wrong type, pls enter integer\u001b[39m\u001b[39m\"\u001b[39m)\n\u001b[0;32m      <a href='vscode-notebook-cell:/c%3A/Users/SAMSUNG/Downloads/software_programming_in_python-main/software_programming_in_python-main/week4-Functions.ipynb#Y234sZmlsZQ%3D%3D?line=6'>7</a>\u001b[0m     string_age \u001b[39m=\u001b[39m \u001b[39minput\u001b[39m()\n\u001b[1;32m----> <a href='vscode-notebook-cell:/c%3A/Users/SAMSUNG/Downloads/software_programming_in_python-main/software_programming_in_python-main/week4-Functions.ipynb#Y234sZmlsZQ%3D%3D?line=7'>8</a>\u001b[0m     my_age \u001b[39m=\u001b[39m \u001b[39mint\u001b[39;49m(string_age)\n\u001b[0;32m     <a href='vscode-notebook-cell:/c%3A/Users/SAMSUNG/Downloads/software_programming_in_python-main/software_programming_in_python-main/week4-Functions.ipynb#Y234sZmlsZQ%3D%3D?line=9'>10</a>\u001b[0m \u001b[39mprint\u001b[39m(\u001b[39m\"\u001b[39m\u001b[39mYou will \u001b[39m\u001b[39m\"\u001b[39m, my_age\u001b[39m+\u001b[39m\u001b[39m10\u001b[39m, \u001b[39m'\u001b[39m\u001b[39myears old after 10 years\u001b[39m\u001b[39m'\u001b[39m )\n",
      "\u001b[1;31mValueError\u001b[0m: invalid literal for int() with base 10: ''"
     ]
    }
   ],
   "source": [
    "print(\"enter your age\")\n",
    "try:\n",
    "    string_age = input()\n",
    "    my_age = int(string_age)\n",
    "except Exception as e:\n",
    "    print(\"You entered wrong type, pls enter integer\")\n",
    "    string_age = input()\n",
    "    my_age = int(string_age)\n",
    "    \n",
    "print(\"You will \", my_age+10, 'years old after 10 years' )\n",
    "\n"
   ]
  },
  {
   "cell_type": "code",
   "execution_count": null,
   "metadata": {},
   "outputs": [],
   "source": []
  },
  {
   "cell_type": "code",
   "execution_count": null,
   "metadata": {},
   "outputs": [],
   "source": []
  },
  {
   "cell_type": "code",
   "execution_count": 18,
   "metadata": {},
   "outputs": [
    {
     "name": "stdout",
     "output_type": "stream",
     "text": [
      "enter your age\n",
      "PLease only enter integer\n"
     ]
    },
    {
     "ename": "NameError",
     "evalue": "name 'my_age' is not defined",
     "output_type": "error",
     "traceback": [
      "\u001b[1;31m---------------------------------------------------------------------------\u001b[0m",
      "\u001b[1;31mNameError\u001b[0m                                 Traceback (most recent call last)",
      "\u001b[1;32mc:\\Users\\SAMSUNG\\Downloads\\software_programming_in_python-main\\software_programming_in_python-main\\week4-Functions.ipynb 셀 79\u001b[0m in \u001b[0;36m<cell line: 12>\u001b[1;34m()\u001b[0m\n\u001b[0;32m      <a href='vscode-notebook-cell:/c%3A/Users/SAMSUNG/Downloads/software_programming_in_python-main/software_programming_in_python-main/week4-Functions.ipynb#Y163sZmlsZQ%3D%3D?line=8'>9</a>\u001b[0m     \u001b[39melif\u001b[39;00m string_age \u001b[39m==\u001b[39m \u001b[39m'\u001b[39m\u001b[39mtwenty\u001b[39m\u001b[39m'\u001b[39m:\n\u001b[0;32m     <a href='vscode-notebook-cell:/c%3A/Users/SAMSUNG/Downloads/software_programming_in_python-main/software_programming_in_python-main/week4-Functions.ipynb#Y163sZmlsZQ%3D%3D?line=9'>10</a>\u001b[0m         my_age \u001b[39m=\u001b[39m \u001b[39m20\u001b[39m\n\u001b[1;32m---> <a href='vscode-notebook-cell:/c%3A/Users/SAMSUNG/Downloads/software_programming_in_python-main/software_programming_in_python-main/week4-Functions.ipynb#Y163sZmlsZQ%3D%3D?line=11'>12</a>\u001b[0m \u001b[39mprint\u001b[39m(\u001b[39m\"\u001b[39m\u001b[39mYou will \u001b[39m\u001b[39m\"\u001b[39m, my_age\u001b[39m+\u001b[39m\u001b[39m10\u001b[39m, \u001b[39m'\u001b[39m\u001b[39myears old after 10 years\u001b[39m\u001b[39m'\u001b[39m )\n",
      "\u001b[1;31mNameError\u001b[0m: name 'my_age' is not defined"
     ]
    }
   ],
   "source": [
    "print(\"enter your age\")\n",
    "try:\n",
    "    # --- error may happen here---\n",
    "    string_age = input()\n",
    "    my_age = int(string_age)\n",
    "    # end of the blow\n",
    "except Exception: # below code handles the error\n",
    "    print(\"PLease only enter integer\")\n",
    "    if string_age=='ten':\n",
    "        my_age = 10\n",
    "    elif string_age == 'twenty':\n",
    "        my_age = 20\n",
    "\n",
    "print(\"You will \", my_age+10, 'years old after 10 years' )\n",
    "\n"
   ]
  },
  {
   "cell_type": "code",
   "execution_count": 17,
   "metadata": {},
   "outputs": [
    {
     "data": {
      "text/plain": [
       "20"
      ]
     },
     "execution_count": 17,
     "metadata": {},
     "output_type": "execute_result"
    }
   ],
   "source": [
    "age"
   ]
  },
  {
   "cell_type": "code",
   "execution_count": null,
   "metadata": {},
   "outputs": [],
   "source": []
  },
  {
   "cell_type": "code",
   "execution_count": 9,
   "metadata": {},
   "outputs": [
    {
     "ename": "ZeroDivisionError",
     "evalue": "division by zero",
     "output_type": "error",
     "traceback": [
      "\u001b[1;31m---------------------------------------------------------------------------\u001b[0m",
      "\u001b[1;31mZeroDivisionError\u001b[0m                         Traceback (most recent call last)",
      "\u001b[1;32mc:\\Users\\SAMSUNG\\Downloads\\software_programming_in_python-main\\software_programming_in_python-main\\week4-Functions.ipynb 셀 79\u001b[0m in \u001b[0;36m<cell line: 1>\u001b[1;34m()\u001b[0m\n\u001b[1;32m----> <a href='vscode-notebook-cell:/c%3A/Users/SAMSUNG/Downloads/software_programming_in_python-main/software_programming_in_python-main/week4-Functions.ipynb#Y162sZmlsZQ%3D%3D?line=0'>1</a>\u001b[0m \u001b[39m42\u001b[39;49m\u001b[39m/\u001b[39;49m\u001b[39m0\u001b[39;49m\n",
      "\u001b[1;31mZeroDivisionError\u001b[0m: division by zero"
     ]
    }
   ],
   "source": [
    "42/0"
   ]
  },
  {
   "cell_type": "markdown",
   "metadata": {},
   "source": [
    "### How try/except works\n",
    "- Errors can be handled with try and except statements.\n",
    "- The code that could potentially have an error is put in a try clause. \n",
    "- The program execution moves to the start of a following except clause if an error happens. "
   ]
  },
  {
   "cell_type": "code",
   "execution_count": null,
   "metadata": {},
   "outputs": [],
   "source": []
  },
  {
   "cell_type": "markdown",
   "metadata": {},
   "source": [
    "## A Short Program: Zigzag\n"
   ]
  },
  {
   "cell_type": "code",
   "execution_count": null,
   "metadata": {},
   "outputs": [],
   "source": []
  },
  {
   "cell_type": "code",
   "execution_count": 81,
   "metadata": {},
   "outputs": [
    {
     "name": "stdout",
     "output_type": "stream",
     "text": [
      "first messagesecond message\n"
     ]
    }
   ],
   "source": [
    "print(\"first message\",end='')\n",
    "print(\"second message\")"
   ]
  },
  {
   "cell_type": "code",
   "execution_count": null,
   "metadata": {},
   "outputs": [],
   "source": []
  },
  {
   "cell_type": "markdown",
   "metadata": {},
   "source": [
    "# Homework 4"
   ]
  },
  {
   "cell_type": "markdown",
   "metadata": {},
   "source": [
    "## Q0:\n",
    "- define a function that does the following\n",
    "    - takes two string values as arguments \n",
    "        - name\n",
    "        - student id\n",
    "    - concatenates them\n",
    "    - returns the concatenated string\n",
    "- run the function definition\n",
    "- call the function in different cell with two arguments (your name and student id)"
   ]
  },
  {
   "cell_type": "code",
   "execution_count": 1,
   "metadata": {},
   "outputs": [],
   "source": [
    "def my_function(name, studentid):\n",
    "    new_str = name+studentid\n",
    "    return new_str\n"
   ]
  },
  {
   "cell_type": "code",
   "execution_count": 2,
   "metadata": {},
   "outputs": [
    {
     "data": {
      "text/plain": [
       "'studnet name123345'"
      ]
     },
     "execution_count": 2,
     "metadata": {},
     "output_type": "execute_result"
    }
   ],
   "source": [
    "my_function('studnet name','123345')"
   ]
  },
  {
   "cell_type": "code",
   "execution_count": null,
   "metadata": {},
   "outputs": [],
   "source": []
  },
  {
   "cell_type": "markdown",
   "metadata": {},
   "source": [
    "## Q1:  Why are the functions advantageous to have in your programs? "
   ]
  },
  {
   "cell_type": "markdown",
   "metadata": {},
   "source": [
    "my answer is"
   ]
  },
  {
   "cell_type": "markdown",
   "metadata": {},
   "source": [
    "## Q2:  When does the code in a function execute: when the function is defined or when the function is called?"
   ]
  },
  {
   "cell_type": "markdown",
   "metadata": {},
   "source": [
    "## Q3. What statement creates/defines a function?"
   ]
  },
  {
   "cell_type": "markdown",
   "metadata": {},
   "source": [
    "## Q4: If a function does not have a return statement, what is the return value of a call to that function?"
   ]
  },
  {
   "cell_type": "markdown",
   "metadata": {},
   "source": []
  }
 ],
 "metadata": {
  "kernelspec": {
   "display_name": "Python 3.9.12 ('base')",
   "language": "python",
   "name": "python3"
  },
  "language_info": {
   "codemirror_mode": {
    "name": "ipython",
    "version": 3
   },
   "file_extension": ".py",
   "mimetype": "text/x-python",
   "name": "python",
   "nbconvert_exporter": "python",
   "pygments_lexer": "ipython3",
   "version": "3.9.12"
  },
  "orig_nbformat": 4,
  "vscode": {
   "interpreter": {
    "hash": "b69f83cf7cc54d8611ac92287215a541f8c38d413ad39d2b197609bc58a5d239"
   }
  }
 },
 "nbformat": 4,
 "nbformat_minor": 2
}
